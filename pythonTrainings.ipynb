{
  "nbformat": 4,
  "nbformat_minor": 0,
  "metadata": {
    "colab": {
      "name": "Untitled1.ipynb",
      "provenance": [],
      "authorship_tag": "ABX9TyO1UlvUqJG9ErXJtYtGVBUC",
      "include_colab_link": true
    },
    "kernelspec": {
      "name": "python3",
      "display_name": "Python 3"
    },
    "language_info": {
      "name": "python"
    }
  },
  "cells": [
    {
      "cell_type": "markdown",
      "metadata": {
        "id": "view-in-github",
        "colab_type": "text"
      },
      "source": [
        "<a href=\"https://colab.research.google.com/github/mefekax/19Jan2022/blob/main/Untitled1.ipynb\" target=\"_parent\"><img src=\"https://colab.research.google.com/assets/colab-badge.svg\" alt=\"Open In Colab\"/></a>"
      ]
    },
    {
      "cell_type": "code",
      "execution_count": null,
      "metadata": {
        "colab": {
          "base_uri": "https://localhost:8080/"
        },
        "id": "wFIfZekvhTCB",
        "outputId": "fd846b7a-6ef9-412d-e899-f83b36f7f9db"
      },
      "outputs": [
        {
          "output_type": "stream",
          "name": "stdout",
          "text": [
            "leoo\n",
            "hi\n",
            "hi\n",
            "hello\n"
          ]
        }
      ],
      "source": [
        "print(\"leoo\")\n",
        "x=input()\n",
        "print (x)\n",
        "if 5>2:\n",
        "  print(\"hello\")"
      ]
    },
    {
      "cell_type": "code",
      "source": [
        "print(x)"
      ],
      "metadata": {
        "colab": {
          "base_uri": "https://localhost:8080/"
        },
        "id": "HAW_-u2CkhEo",
        "outputId": "f468e6d3-8ec1-48cc-957f-8b7df32eea88"
      },
      "execution_count": null,
      "outputs": [
        {
          "output_type": "stream",
          "name": "stdout",
          "text": [
            "hi\n"
          ]
        }
      ]
    },
    {
      "cell_type": "code",
      "source": [
        "y=\"miyaw\""
      ],
      "metadata": {
        "id": "mj61N6fRk8zx"
      },
      "execution_count": null,
      "outputs": []
    },
    {
      "cell_type": "code",
      "source": [
        "print(y)"
      ],
      "metadata": {
        "colab": {
          "base_uri": "https://localhost:8080/"
        },
        "id": "ipfb5cGHlATS",
        "outputId": "d2d12533-a157-451c-bc41-4a599759e5cd"
      },
      "execution_count": null,
      "outputs": [
        {
          "output_type": "stream",
          "name": "stdout",
          "text": [
            "miyaw\n"
          ]
        }
      ]
    },
    {
      "cell_type": "code",
      "source": [
        "a=800\n",
        "b=\"merhaba\"\n",
        "    print(a,b, sep=\"**\")"
      ],
      "metadata": {
        "colab": {
          "base_uri": "https://localhost:8080/"
        },
        "id": "FJZf1q5ulcU8",
        "outputId": "428d6474-35c8-4be1-eafd-63a2d054e9ca"
      },
      "execution_count": null,
      "outputs": [
        {
          "output_type": "stream",
          "name": "stdout",
          "text": [
            "800**merhaba\n"
          ]
        }
      ]
    },
    {
      "cell_type": "code",
      "source": [
        "yas=input(\"yaş kaç \")"
      ],
      "metadata": {
        "colab": {
          "base_uri": "https://localhost:8080/"
        },
        "id": "qHgthXMgog81",
        "outputId": "5e0fae92-467f-46c2-bb5a-8e3ed08245ca"
      },
      "execution_count": null,
      "outputs": [
        {
          "name": "stdout",
          "output_type": "stream",
          "text": [
            "yaş kaç 3\n"
          ]
        }
      ]
    },
    {
      "cell_type": "code",
      "source": [
        "yas"
      ],
      "metadata": {
        "colab": {
          "base_uri": "https://localhost:8080/",
          "height": 35
        },
        "id": "VNbEDp79pI2H",
        "outputId": "2dedb679-a80a-494e-b3d6-4886c5bb7196"
      },
      "execution_count": null,
      "outputs": [
        {
          "output_type": "execute_result",
          "data": {
            "application/vnd.google.colaboratory.intrinsic+json": {
              "type": "string"
            },
            "text/plain": [
              "'3'"
            ]
          },
          "metadata": {},
          "execution_count": 15
        }
      ]
    },
    {
      "cell_type": "code",
      "source": [
        "isim=input(\"ismin ne \")"
      ],
      "metadata": {
        "colab": {
          "base_uri": "https://localhost:8080/"
        },
        "id": "UJla5YsQpXzv",
        "outputId": "769b6863-6369-469b-e9f0-ffe4e5c2eefa"
      },
      "execution_count": null,
      "outputs": [
        {
          "name": "stdout",
          "output_type": "stream",
          "text": [
            "ismin ne meryem\n"
          ]
        }
      ]
    },
    {
      "cell_type": "code",
      "source": [
        "print(\"merhaba \" + isim)"
      ],
      "metadata": {
        "colab": {
          "base_uri": "https://localhost:8080/"
        },
        "id": "rfRBxK86pf4g",
        "outputId": "ce10b289-93cf-4c22-c75b-15745e4bbfb3"
      },
      "execution_count": null,
      "outputs": [
        {
          "output_type": "stream",
          "name": "stdout",
          "text": [
            "merhaba meryem\n"
          ]
        }
      ]
    },
    {
      "cell_type": "code",
      "source": [
        "#this is a comment"
      ],
      "metadata": {
        "id": "QSXaZRWD0fm_"
      },
      "execution_count": null,
      "outputs": []
    },
    {
      "cell_type": "code",
      "source": [
        "sayı1=500\n",
        "sayı2=500\n",
        "print(id(sayı1))\n",
        "print(\" \")\n",
        "\n"
      ],
      "metadata": {
        "colab": {
          "base_uri": "https://localhost:8080/"
        },
        "id": "kaXU2MXl32v0",
        "outputId": "f7f675fa-c0dc-44c9-9ce1-4386ffe6dae0"
      },
      "execution_count": null,
      "outputs": [
        {
          "output_type": "stream",
          "name": "stdout",
          "text": [
            "140424394789200\n",
            " \n"
          ]
        }
      ]
    },
    {
      "cell_type": "code",
      "source": [
        "print(id(sayı2))"
      ],
      "metadata": {
        "colab": {
          "base_uri": "https://localhost:8080/"
        },
        "id": "8cBguS1Q4erZ",
        "outputId": "e233a52e-4a06-4794-f796-5e693e879fa4"
      },
      "execution_count": null,
      "outputs": [
        {
          "output_type": "stream",
          "name": "stdout",
          "text": [
            "140424394791600\n"
          ]
        }
      ]
    },
    {
      "cell_type": "code",
      "source": [
        "x=200\n",
        "x*x\n",
        "print(x*x)"
      ],
      "metadata": {
        "id": "bG3YIEVv5Qfh",
        "colab": {
          "base_uri": "https://localhost:8080/"
        },
        "outputId": "e8cf5b30-cec3-4142-af13-73af8894c5a0"
      },
      "execution_count": null,
      "outputs": [
        {
          "output_type": "stream",
          "name": "stdout",
          "text": [
            "40000\n"
          ]
        }
      ]
    },
    {
      "cell_type": "code",
      "source": [
        "x"
      ],
      "metadata": {
        "colab": {
          "base_uri": "https://localhost:8080/"
        },
        "id": "O-_1jyq-gge4",
        "outputId": "136f6983-5e59-4b78-d5ed-e7872d919f36"
      },
      "execution_count": null,
      "outputs": [
        {
          "output_type": "execute_result",
          "data": {
            "text/plain": [
              "200"
            ]
          },
          "metadata": {},
          "execution_count": 2
        }
      ]
    },
    {
      "cell_type": "code",
      "source": [
        "a=4\n",
        "b=3"
      ],
      "metadata": {
        "id": "30JiOwCOg05w"
      },
      "execution_count": null,
      "outputs": []
    },
    {
      "cell_type": "code",
      "source": [
        "id(a)"
      ],
      "metadata": {
        "colab": {
          "base_uri": "https://localhost:8080/"
        },
        "id": "41Onjs7RiAcQ",
        "outputId": "3bd49655-0e00-4344-87b1-8c44c89f6bf6"
      },
      "execution_count": null,
      "outputs": [
        {
          "output_type": "execute_result",
          "data": {
            "text/plain": [
              "94611852782176"
            ]
          },
          "metadata": {},
          "execution_count": 7
        }
      ]
    },
    {
      "cell_type": "code",
      "source": [
        "id(b)"
      ],
      "metadata": {
        "colab": {
          "base_uri": "https://localhost:8080/"
        },
        "id": "ia4eA-VuiDL3",
        "outputId": "06a43eba-a2fe-47bb-8ce8-0e8f06542efd"
      },
      "execution_count": null,
      "outputs": [
        {
          "output_type": "execute_result",
          "data": {
            "text/plain": [
              "94611852782144"
            ]
          },
          "metadata": {},
          "execution_count": 8
        }
      ]
    },
    {
      "cell_type": "code",
      "source": [
        "isim=\"murat\"\n",
        "soyisim=\"akçi\"\n",
        "sehir=\"sitanbol\""
      ],
      "metadata": {
        "id": "tzYGIwbFiODJ"
      },
      "execution_count": null,
      "outputs": []
    },
    {
      "cell_type": "code",
      "source": [
        "print(\"isim\", isim, \"\\n\", \"soyisim\", soyisim)"
      ],
      "metadata": {
        "colab": {
          "base_uri": "https://localhost:8080/"
        },
        "id": "R0_FjwJMinFA",
        "outputId": "f2653df1-8848-44dd-cd36-c9558c61b63d"
      },
      "execution_count": null,
      "outputs": [
        {
          "output_type": "stream",
          "name": "stdout",
          "text": [
            "isim murat \n",
            " soyisim akçi\n"
          ]
        }
      ]
    },
    {
      "cell_type": "code",
      "source": [
        "print(type(isim))"
      ],
      "metadata": {
        "colab": {
          "base_uri": "https://localhost:8080/"
        },
        "id": "-P2zKxmWisE4",
        "outputId": "5b61052a-949b-45dd-c638-ad440aad47f8"
      },
      "execution_count": null,
      "outputs": [
        {
          "output_type": "stream",
          "name": "stdout",
          "text": [
            "<class 'str'>\n"
          ]
        }
      ]
    },
    {
      "cell_type": "code",
      "source": [
        "print(type(x))"
      ],
      "metadata": {
        "colab": {
          "base_uri": "https://localhost:8080/"
        },
        "id": "vKf8w72-isS4",
        "outputId": "a59a3208-b077-4533-f6ea-523af250d5c4"
      },
      "execution_count": null,
      "outputs": [
        {
          "output_type": "stream",
          "name": "stdout",
          "text": [
            "<class 'int'>\n"
          ]
        }
      ]
    },
    {
      "cell_type": "code",
      "source": [
        "print(type(id(x)))"
      ],
      "metadata": {
        "colab": {
          "base_uri": "https://localhost:8080/"
        },
        "id": "gfmDFQwyipVo",
        "outputId": "463498a6-727a-4d59-bf83-471c4289db43"
      },
      "execution_count": null,
      "outputs": [
        {
          "output_type": "stream",
          "name": "stdout",
          "text": [
            "<class 'int'>\n"
          ]
        }
      ]
    },
    {
      "cell_type": "code",
      "source": [
        "z=2.5\n",
        "x=9j"
      ],
      "metadata": {
        "id": "yCZIvRdxipnI"
      },
      "execution_count": null,
      "outputs": []
    },
    {
      "cell_type": "code",
      "source": [
        "print(type(z))\n",
        "print(type(x))"
      ],
      "metadata": {
        "colab": {
          "base_uri": "https://localhost:8080/"
        },
        "id": "D6jxWmOpiqKY",
        "outputId": "1f21f574-7a38-4400-f61b-61a4a2e9b3e0"
      },
      "execution_count": null,
      "outputs": [
        {
          "output_type": "stream",
          "name": "stdout",
          "text": [
            "<class 'float'>\n",
            "<class 'complex'>\n"
          ]
        }
      ]
    },
    {
      "cell_type": "code",
      "source": [
        "x=[\"apple\",\"banana\",\"cherry\"]\n",
        "y=(\"apple\",\"banana\",\"cherry\")"
      ],
      "metadata": {
        "id": "OXLH7GJ3iqWg"
      },
      "execution_count": null,
      "outputs": []
    },
    {
      "cell_type": "code",
      "source": [
        "print(type(x))\n",
        "print(type(y))"
      ],
      "metadata": {
        "colab": {
          "base_uri": "https://localhost:8080/"
        },
        "id": "yPA-OeOwiqhw",
        "outputId": "8964ada8-cdcb-4e4c-c310-218f371a23c5"
      },
      "execution_count": null,
      "outputs": [
        {
          "output_type": "stream",
          "name": "stdout",
          "text": [
            "<class 'list'>\n",
            "<class 'tuple'>\n"
          ]
        }
      ]
    },
    {
      "cell_type": "code",
      "source": [
        "z={\"name\":\"John\",\"age\":36}\n",
        "print(type(z))"
      ],
      "metadata": {
        "colab": {
          "base_uri": "https://localhost:8080/"
        },
        "id": "cJc59xDTmr7F",
        "outputId": "38e89fb1-8bc6-4e62-9069-31cd9dbc5470"
      },
      "execution_count": null,
      "outputs": [
        {
          "output_type": "stream",
          "name": "stdout",
          "text": [
            "<class 'dict'>\n"
          ]
        }
      ]
    },
    {
      "cell_type": "code",
      "source": [
        "x={\"apple\", \"banana\", \"cherry\"}"
      ],
      "metadata": {
        "id": "FrRxcjZGmsJa"
      },
      "execution_count": null,
      "outputs": []
    },
    {
      "cell_type": "code",
      "source": [
        "print(type(x))"
      ],
      "metadata": {
        "colab": {
          "base_uri": "https://localhost:8080/"
        },
        "id": "UfVE3XLEmsSq",
        "outputId": "dc785d3b-a12b-44c9-9fa9-32bbd03a6400"
      },
      "execution_count": null,
      "outputs": [
        {
          "output_type": "stream",
          "name": "stdout",
          "text": [
            "<class 'set'>\n"
          ]
        }
      ]
    },
    {
      "cell_type": "code",
      "source": [
        "q=True\n",
        "w=False"
      ],
      "metadata": {
        "id": "z91BElflmscy"
      },
      "execution_count": null,
      "outputs": []
    },
    {
      "cell_type": "code",
      "source": [
        "print(type(q),type(w), sep= \" \")"
      ],
      "metadata": {
        "colab": {
          "base_uri": "https://localhost:8080/"
        },
        "id": "XfJasU-Tnazz",
        "outputId": "983710ab-10dc-4e16-80b3-a4c6923d3c13"
      },
      "execution_count": null,
      "outputs": [
        {
          "output_type": "stream",
          "name": "stdout",
          "text": [
            "<class 'bool'> <class 'bool'>\n"
          ]
        }
      ]
    },
    {
      "cell_type": "code",
      "source": [
        "myString1=\"Merhaba\"\n",
        "myString2=\"Kullanıcı\""
      ],
      "metadata": {
        "id": "bvGO3S5Nna5k"
      },
      "execution_count": null,
      "outputs": []
    },
    {
      "cell_type": "code",
      "source": [
        "myString1+\" \" +myString2"
      ],
      "metadata": {
        "colab": {
          "base_uri": "https://localhost:8080/",
          "height": 35
        },
        "id": "vIeTz0KEncJj",
        "outputId": "1a36b806-d163-4458-84ce-3bc98c9494c1"
      },
      "execution_count": null,
      "outputs": [
        {
          "output_type": "execute_result",
          "data": {
            "application/vnd.google.colaboratory.intrinsic+json": {
              "type": "string"
            },
            "text/plain": [
              "'Merhaba Kullanıcı'"
            ]
          },
          "metadata": {},
          "execution_count": 34
        }
      ]
    },
    {
      "cell_type": "code",
      "source": [
        "type(myString1)"
      ],
      "metadata": {
        "colab": {
          "base_uri": "https://localhost:8080/"
        },
        "id": "Lq8xjtS9iqvo",
        "outputId": "e8f54c53-6ca7-40f4-8b6a-aa1ded6f3414"
      },
      "execution_count": null,
      "outputs": [
        {
          "output_type": "execute_result",
          "data": {
            "text/plain": [
              "str"
            ]
          },
          "metadata": {},
          "execution_count": 35
        }
      ]
    },
    {
      "cell_type": "code",
      "source": [
        "myFloat=.8"
      ],
      "metadata": {
        "id": "TuSL0KeIpHIH"
      },
      "execution_count": null,
      "outputs": []
    },
    {
      "cell_type": "code",
      "source": [
        "type(myFloat)"
      ],
      "metadata": {
        "colab": {
          "base_uri": "https://localhost:8080/"
        },
        "id": "BTQ_mJ9xpHU5",
        "outputId": "3b3d0320-5967-42d1-ebb8-0d1bb0362932"
      },
      "execution_count": null,
      "outputs": [
        {
          "output_type": "execute_result",
          "data": {
            "text/plain": [
              "float"
            ]
          },
          "metadata": {},
          "execution_count": 37
        }
      ]
    },
    {
      "cell_type": "code",
      "source": [
        "myInt=2"
      ],
      "metadata": {
        "id": "R5xX-928pHgZ"
      },
      "execution_count": null,
      "outputs": []
    },
    {
      "cell_type": "code",
      "source": [
        "myFloat+myInt"
      ],
      "metadata": {
        "colab": {
          "base_uri": "https://localhost:8080/"
        },
        "id": "2adBwwTMpeKy",
        "outputId": "95ca65bf-fa74-4959-c698-09d675080eec"
      },
      "execution_count": null,
      "outputs": [
        {
          "output_type": "execute_result",
          "data": {
            "text/plain": [
              "2.8"
            ]
          },
          "metadata": {},
          "execution_count": 39
        }
      ]
    },
    {
      "cell_type": "code",
      "source": [
        "myString1=\"abc\"\n",
        "myString2=\"123\"\n",
        "myInt=789"
      ],
      "metadata": {
        "id": "vuzvLpgHpeeC"
      },
      "execution_count": null,
      "outputs": []
    },
    {
      "cell_type": "code",
      "source": [
        "int(myString2)+myInt\n"
      ],
      "metadata": {
        "colab": {
          "base_uri": "https://localhost:8080/"
        },
        "id": "yvN1iwxDpelq",
        "outputId": "d2e68478-ab36-4c07-f7a2-147d3fe1fdbf"
      },
      "execution_count": null,
      "outputs": [
        {
          "output_type": "execute_result",
          "data": {
            "text/plain": [
              "912"
            ]
          },
          "metadata": {},
          "execution_count": 42
        }
      ]
    },
    {
      "cell_type": "code",
      "source": [
        "myList=[\"merhaba\",10,10.5,[1,\"hello\"]]"
      ],
      "metadata": {
        "id": "N3t2MCZcpetS"
      },
      "execution_count": null,
      "outputs": []
    },
    {
      "cell_type": "code",
      "source": [
        "type(myList)"
      ],
      "metadata": {
        "colab": {
          "base_uri": "https://localhost:8080/"
        },
        "id": "BD-tcbIbpe1K",
        "outputId": "d4f8bb27-17f3-4144-9e9a-2a1eefbd8ee7"
      },
      "execution_count": null,
      "outputs": [
        {
          "output_type": "execute_result",
          "data": {
            "text/plain": [
              "list"
            ]
          },
          "metadata": {},
          "execution_count": 45
        }
      ]
    },
    {
      "cell_type": "code",
      "source": [
        "type(myInt)"
      ],
      "metadata": {
        "colab": {
          "base_uri": "https://localhost:8080/"
        },
        "id": "4J0SNpYMpe9K",
        "outputId": "ba2e4cb6-4611-4f20-b9a2-480609cd720b"
      },
      "execution_count": null,
      "outputs": [
        {
          "output_type": "execute_result",
          "data": {
            "text/plain": [
              "int"
            ]
          },
          "metadata": {},
          "execution_count": 46
        }
      ]
    },
    {
      "cell_type": "code",
      "source": [
        "str(myInt)"
      ],
      "metadata": {
        "colab": {
          "base_uri": "https://localhost:8080/",
          "height": 35
        },
        "id": "1ZBJOOWmpfEy",
        "outputId": "79879613-be3d-48e4-db7b-5e96aec7527d"
      },
      "execution_count": null,
      "outputs": [
        {
          "output_type": "execute_result",
          "data": {
            "application/vnd.google.colaboratory.intrinsic+json": {
              "type": "string"
            },
            "text/plain": [
              "'789'"
            ]
          },
          "metadata": {},
          "execution_count": 47
        }
      ]
    },
    {
      "cell_type": "code",
      "source": [
        "type(myInt)"
      ],
      "metadata": {
        "colab": {
          "base_uri": "https://localhost:8080/"
        },
        "id": "-cWLGs0EpHrp",
        "outputId": "5fc9a2fc-7561-4b3f-a141-45b7dc7a5115"
      },
      "execution_count": null,
      "outputs": [
        {
          "output_type": "execute_result",
          "data": {
            "text/plain": [
              "int"
            ]
          },
          "metadata": {},
          "execution_count": 48
        }
      ]
    },
    {
      "cell_type": "code",
      "source": [
        "myInt=str(myInt)"
      ],
      "metadata": {
        "id": "Yt8e3dvOpH1R"
      },
      "execution_count": null,
      "outputs": []
    },
    {
      "cell_type": "code",
      "source": [
        "type(myInt)"
      ],
      "metadata": {
        "colab": {
          "base_uri": "https://localhost:8080/"
        },
        "id": "rMKtCG-vpICZ",
        "outputId": "9746df37-da52-46fc-c207-b9e607aa1751"
      },
      "execution_count": null,
      "outputs": [
        {
          "output_type": "execute_result",
          "data": {
            "text/plain": [
              "str"
            ]
          },
          "metadata": {},
          "execution_count": 50
        }
      ]
    },
    {
      "cell_type": "code",
      "source": [
        "myTuple=(\"hello\",1,10.5,[1,2,3])"
      ],
      "metadata": {
        "id": "UsAjj0Y3pILy"
      },
      "execution_count": null,
      "outputs": []
    },
    {
      "cell_type": "code",
      "source": [
        "myDictionary={\"key\":\"value\",\"x\":5,\"y\":\"merhaba\"}"
      ],
      "metadata": {
        "id": "wXlUBerutdIo"
      },
      "execution_count": null,
      "outputs": []
    },
    {
      "cell_type": "code",
      "source": [
        "myDictionary"
      ],
      "metadata": {
        "colab": {
          "base_uri": "https://localhost:8080/"
        },
        "id": "MrXsOAdJtdUh",
        "outputId": "79d375c2-36b4-4dbb-c683-d0eda577476f"
      },
      "execution_count": null,
      "outputs": [
        {
          "output_type": "execute_result",
          "data": {
            "text/plain": [
              "{'key': 'value', 'x': 5, 'y': 'merhaba'}"
            ]
          },
          "metadata": {},
          "execution_count": 57
        }
      ]
    },
    {
      "cell_type": "code",
      "source": [
        "mySet={\"elma\",\"armut\",\"karpuz\"}"
      ],
      "metadata": {
        "id": "CdqHmRqCtdha"
      },
      "execution_count": null,
      "outputs": []
    },
    {
      "cell_type": "code",
      "source": [
        "mySet"
      ],
      "metadata": {
        "colab": {
          "base_uri": "https://localhost:8080/"
        },
        "id": "D-FzdG2etd8p",
        "outputId": "575ee30e-9fb9-44fd-cfd6-c8a4a1538306"
      },
      "execution_count": null,
      "outputs": [
        {
          "output_type": "execute_result",
          "data": {
            "text/plain": [
              "{'armut', 'elma', 'karpuz'}"
            ]
          },
          "metadata": {},
          "execution_count": 59
        }
      ]
    },
    {
      "cell_type": "code",
      "source": [
        "myVar=123\n",
        "myVar2=\"123\""
      ],
      "metadata": {
        "id": "9BKXcmmbteKi"
      },
      "execution_count": null,
      "outputs": []
    },
    {
      "cell_type": "code",
      "source": [
        "print(myVar)\n",
        "type(myVar)"
      ],
      "metadata": {
        "colab": {
          "base_uri": "https://localhost:8080/"
        },
        "id": "1ZanW9OG1pIn",
        "outputId": "7cd69dc4-d86a-43ca-e4e0-ae4cde44df71"
      },
      "execution_count": null,
      "outputs": [
        {
          "output_type": "stream",
          "name": "stdout",
          "text": [
            "123\n"
          ]
        },
        {
          "output_type": "execute_result",
          "data": {
            "text/plain": [
              "int"
            ]
          },
          "metadata": {},
          "execution_count": 64
        }
      ]
    },
    {
      "cell_type": "code",
      "source": [
        "print(myVar2)\n",
        "type(myVar2)"
      ],
      "metadata": {
        "colab": {
          "base_uri": "https://localhost:8080/"
        },
        "id": "dYlWenS41pzY",
        "outputId": "96c773a3-6465-42ba-f93e-d5c972458d9f"
      },
      "execution_count": null,
      "outputs": [
        {
          "output_type": "stream",
          "name": "stdout",
          "text": [
            "123\n"
          ]
        },
        {
          "output_type": "execute_result",
          "data": {
            "text/plain": [
              "str"
            ]
          },
          "metadata": {},
          "execution_count": 65
        }
      ]
    },
    {
      "cell_type": "code",
      "source": [
        "myVar2[0]"
      ],
      "metadata": {
        "colab": {
          "base_uri": "https://localhost:8080/",
          "height": 35
        },
        "id": "Q-r_0RFO1p9x",
        "outputId": "278fca03-2f4a-4148-ff30-b91573ec372c"
      },
      "execution_count": null,
      "outputs": [
        {
          "output_type": "execute_result",
          "data": {
            "application/vnd.google.colaboratory.intrinsic+json": {
              "type": "string"
            },
            "text/plain": [
              "'1'"
            ]
          },
          "metadata": {},
          "execution_count": 66
        }
      ]
    },
    {
      "cell_type": "code",
      "source": [
        "myVar2[:3]"
      ],
      "metadata": {
        "colab": {
          "base_uri": "https://localhost:8080/",
          "height": 35
        },
        "id": "tqr1-BF_1qHo",
        "outputId": "b0b190ed-45ac-49e0-f040-2f6688ad7a8c"
      },
      "execution_count": null,
      "outputs": [
        {
          "output_type": "execute_result",
          "data": {
            "application/vnd.google.colaboratory.intrinsic+json": {
              "type": "string"
            },
            "text/plain": [
              "'123'"
            ]
          },
          "metadata": {},
          "execution_count": 72
        }
      ]
    },
    {
      "cell_type": "code",
      "source": [
        "len(myVar2)"
      ],
      "metadata": {
        "colab": {
          "base_uri": "https://localhost:8080/"
        },
        "id": "fF8air0l1qRx",
        "outputId": "0afb5645-bba0-4084-8964-6c533b45d0fe"
      },
      "execution_count": null,
      "outputs": [
        {
          "output_type": "execute_result",
          "data": {
            "text/plain": [
              "3"
            ]
          },
          "metadata": {},
          "execution_count": 73
        }
      ]
    },
    {
      "cell_type": "code",
      "source": [
        "string1=\"muccratccakbbca\""
      ],
      "metadata": {
        "id": "AFA_BqBp4NJ5"
      },
      "execution_count": null,
      "outputs": []
    },
    {
      "cell_type": "code",
      "source": [
        "string2=string1[:2]+string1[4:7]+\" \"+string1[9:11]+string1[13:len(string1)]\n"
      ],
      "metadata": {
        "id": "4F7C3uqB4NDb"
      },
      "execution_count": null,
      "outputs": []
    },
    {
      "cell_type": "code",
      "source": [
        "print(string2)"
      ],
      "metadata": {
        "colab": {
          "base_uri": "https://localhost:8080/"
        },
        "id": "zXoB3nlh4M_Q",
        "outputId": "01306fa3-87e0-49f9-ba7b-b5bd1c3857fb"
      },
      "execution_count": null,
      "outputs": [
        {
          "output_type": "stream",
          "name": "stdout",
          "text": [
            "murat akca\n"
          ]
        }
      ]
    },
    {
      "cell_type": "code",
      "source": [
        "string2[:]"
      ],
      "metadata": {
        "colab": {
          "base_uri": "https://localhost:8080/",
          "height": 35
        },
        "id": "lq2vAonN4M6l",
        "outputId": "8bfa9915-5fb8-4a75-e392-f55b95e77119"
      },
      "execution_count": null,
      "outputs": [
        {
          "output_type": "execute_result",
          "data": {
            "application/vnd.google.colaboratory.intrinsic+json": {
              "type": "string"
            },
            "text/plain": [
              "'murat akca'"
            ]
          },
          "metadata": {},
          "execution_count": 79
        }
      ]
    },
    {
      "cell_type": "code",
      "source": [
        "string2[::1]"
      ],
      "metadata": {
        "colab": {
          "base_uri": "https://localhost:8080/",
          "height": 35
        },
        "id": "gZe2W8Sa4M2B",
        "outputId": "58987cde-4676-4a26-e4f4-5874faa0c598"
      },
      "execution_count": null,
      "outputs": [
        {
          "output_type": "execute_result",
          "data": {
            "application/vnd.google.colaboratory.intrinsic+json": {
              "type": "string"
            },
            "text/plain": [
              "'murat akca'"
            ]
          },
          "metadata": {},
          "execution_count": 82
        }
      ]
    },
    {
      "cell_type": "code",
      "source": [
        "string2[::2]"
      ],
      "metadata": {
        "colab": {
          "base_uri": "https://localhost:8080/",
          "height": 35
        },
        "id": "mqkk-TZJ4MxS",
        "outputId": "3703c359-a28d-432e-ab98-eb20f11f7a77"
      },
      "execution_count": null,
      "outputs": [
        {
          "output_type": "execute_result",
          "data": {
            "application/vnd.google.colaboratory.intrinsic+json": {
              "type": "string"
            },
            "text/plain": [
              "'mrtac'"
            ]
          },
          "metadata": {},
          "execution_count": 83
        }
      ]
    },
    {
      "cell_type": "code",
      "source": [
        "print(string2*5)"
      ],
      "metadata": {
        "colab": {
          "base_uri": "https://localhost:8080/"
        },
        "id": "foN98cJc4MpS",
        "outputId": "39887211-f15a-42a6-8efb-7cc4fd4f77a8"
      },
      "execution_count": null,
      "outputs": [
        {
          "output_type": "stream",
          "name": "stdout",
          "text": [
            "murat akcamurat akcamurat akcamurat akcamurat akca\n"
          ]
        }
      ]
    },
    {
      "cell_type": "code",
      "source": [
        "import string"
      ],
      "metadata": {
        "id": "KlFY-lck4MdT"
      },
      "execution_count": null,
      "outputs": []
    },
    {
      "cell_type": "code",
      "source": [
        "s1=slice(1,4)"
      ],
      "metadata": {
        "id": "OMXWqt921qbh"
      },
      "execution_count": null,
      "outputs": []
    },
    {
      "cell_type": "code",
      "source": [
        "string2[s1]"
      ],
      "metadata": {
        "colab": {
          "base_uri": "https://localhost:8080/",
          "height": 35
        },
        "id": "RICN0y_F1qkV",
        "outputId": "4d5617fa-3605-40e6-f248-b0ddca12cdd0"
      },
      "execution_count": null,
      "outputs": [
        {
          "output_type": "execute_result",
          "data": {
            "application/vnd.google.colaboratory.intrinsic+json": {
              "type": "string"
            },
            "text/plain": [
              "'ura'"
            ]
          },
          "metadata": {},
          "execution_count": 89
        }
      ]
    },
    {
      "cell_type": "code",
      "source": [
        "string2.upper()"
      ],
      "metadata": {
        "colab": {
          "base_uri": "https://localhost:8080/",
          "height": 35
        },
        "id": "EvLmqv7FZt9E",
        "outputId": "f84857cd-aba7-422e-9e2b-078532624b89"
      },
      "execution_count": null,
      "outputs": [
        {
          "output_type": "execute_result",
          "data": {
            "application/vnd.google.colaboratory.intrinsic+json": {
              "type": "string"
            },
            "text/plain": [
              "'MURAT AKCA'"
            ]
          },
          "metadata": {},
          "execution_count": 90
        }
      ]
    },
    {
      "cell_type": "code",
      "source": [
        "string2"
      ],
      "metadata": {
        "colab": {
          "base_uri": "https://localhost:8080/",
          "height": 35
        },
        "id": "AB7OyujwZt6Y",
        "outputId": "43a7ac9e-d5ba-439c-b9ff-9765d70a9ec3"
      },
      "execution_count": null,
      "outputs": [
        {
          "output_type": "execute_result",
          "data": {
            "application/vnd.google.colaboratory.intrinsic+json": {
              "type": "string"
            },
            "text/plain": [
              "'murat akca'"
            ]
          },
          "metadata": {},
          "execution_count": 91
        }
      ]
    },
    {
      "cell_type": "code",
      "source": [
        "string3=\" MERHABA PROGRAMCI \""
      ],
      "metadata": {
        "id": "sWDEJZHJaNs_"
      },
      "execution_count": null,
      "outputs": []
    },
    {
      "cell_type": "code",
      "source": [
        "string3.lower()"
      ],
      "metadata": {
        "colab": {
          "base_uri": "https://localhost:8080/",
          "height": 35
        },
        "id": "nkK95N5uaNm-",
        "outputId": "b1432bdd-9b73-420b-b31e-721cf6cdd3f6"
      },
      "execution_count": null,
      "outputs": [
        {
          "output_type": "execute_result",
          "data": {
            "application/vnd.google.colaboratory.intrinsic+json": {
              "type": "string"
            },
            "text/plain": [
              "' merhaba programci '"
            ]
          },
          "metadata": {},
          "execution_count": 93
        }
      ]
    },
    {
      "cell_type": "code",
      "source": [
        "string3.strip()"
      ],
      "metadata": {
        "colab": {
          "base_uri": "https://localhost:8080/",
          "height": 35
        },
        "id": "7T0RJF3CaNif",
        "outputId": "d4fdcdc7-3a87-4da1-fbad-aebee36d70a8"
      },
      "execution_count": null,
      "outputs": [
        {
          "output_type": "execute_result",
          "data": {
            "application/vnd.google.colaboratory.intrinsic+json": {
              "type": "string"
            },
            "text/plain": [
              "'MERHABA PROGRAMCI'"
            ]
          },
          "metadata": {},
          "execution_count": 94
        }
      ]
    },
    {
      "cell_type": "code",
      "source": [
        "string3.split(\" \")"
      ],
      "metadata": {
        "colab": {
          "base_uri": "https://localhost:8080/"
        },
        "id": "ZOaA49zBaNeY",
        "outputId": "9b2beca8-2e1e-4e83-fe32-268f5ee90aa6"
      },
      "execution_count": null,
      "outputs": [
        {
          "output_type": "execute_result",
          "data": {
            "text/plain": [
              "['', 'MERHABA', 'PROGRAMCI', '']"
            ]
          },
          "metadata": {},
          "execution_count": 96
        }
      ]
    },
    {
      "cell_type": "code",
      "source": [
        "string3.replace(\"PROGRAM\",\"YALAN\")"
      ],
      "metadata": {
        "colab": {
          "base_uri": "https://localhost:8080/",
          "height": 35
        },
        "id": "a69m-qkTaNXm",
        "outputId": "171fce16-943a-42b4-bf0b-7fd38bcc652a"
      },
      "execution_count": null,
      "outputs": [
        {
          "output_type": "execute_result",
          "data": {
            "application/vnd.google.colaboratory.intrinsic+json": {
              "type": "string"
            },
            "text/plain": [
              "' MERHABA YALANCI '"
            ]
          },
          "metadata": {},
          "execution_count": 99
        }
      ]
    },
    {
      "cell_type": "code",
      "source": [
        "string3.swapcase()"
      ],
      "metadata": {
        "colab": {
          "base_uri": "https://localhost:8080/",
          "height": 35
        },
        "id": "cSJN8zx_aNOH",
        "outputId": "d0b7aca9-fde7-455f-fbbe-1c125c57d0aa"
      },
      "execution_count": null,
      "outputs": [
        {
          "output_type": "execute_result",
          "data": {
            "application/vnd.google.colaboratory.intrinsic+json": {
              "type": "string"
            },
            "text/plain": [
              "' merhaba programci '"
            ]
          },
          "metadata": {},
          "execution_count": 100
        }
      ]
    },
    {
      "cell_type": "code",
      "source": [
        "string3.title()"
      ],
      "metadata": {
        "colab": {
          "base_uri": "https://localhost:8080/",
          "height": 35
        },
        "id": "EsTRDC12Zt3D",
        "outputId": "8b1bb391-6cf8-4c9a-d6ac-b80b96372a25"
      },
      "execution_count": null,
      "outputs": [
        {
          "output_type": "execute_result",
          "data": {
            "application/vnd.google.colaboratory.intrinsic+json": {
              "type": "string"
            },
            "text/plain": [
              "' Merhaba Programci '"
            ]
          },
          "metadata": {},
          "execution_count": 101
        }
      ]
    },
    {
      "cell_type": "code",
      "source": [
        "string4=\" vg Hello Dear! ğç\""
      ],
      "metadata": {
        "id": "jBB2HYhKZt0M"
      },
      "execution_count": null,
      "outputs": []
    },
    {
      "cell_type": "code",
      "source": [
        "string4.lstrip(\"vg \")"
      ],
      "metadata": {
        "colab": {
          "base_uri": "https://localhost:8080/",
          "height": 35
        },
        "id": "jy_iXs8jZtxJ",
        "outputId": "a21ded09-e358-4432-893d-0a0145a3cf50"
      },
      "execution_count": null,
      "outputs": [
        {
          "output_type": "execute_result",
          "data": {
            "application/vnd.google.colaboratory.intrinsic+json": {
              "type": "string"
            },
            "text/plain": [
              "'Hello Dear! ğç'"
            ]
          },
          "metadata": {},
          "execution_count": 104
        }
      ]
    },
    {
      "cell_type": "code",
      "source": [
        "string5=\" Bu bir cümledir.\""
      ],
      "metadata": {
        "id": "Ix0RrGmHZts7"
      },
      "execution_count": null,
      "outputs": []
    },
    {
      "cell_type": "code",
      "source": [
        "string5.split()"
      ],
      "metadata": {
        "colab": {
          "base_uri": "https://localhost:8080/"
        },
        "id": "EX6u9SSUZtmz",
        "outputId": "d83eb1cd-0366-42ce-e1d7-2a48fa1e80ba"
      },
      "execution_count": null,
      "outputs": [
        {
          "output_type": "execute_result",
          "data": {
            "text/plain": [
              "['Bu', 'bir', 'cümledir.']"
            ]
          },
          "metadata": {},
          "execution_count": 106
        }
      ]
    },
    {
      "cell_type": "code",
      "source": [
        "smooth_chorus=\"\"\"And if you said, \"This life ain't good enough.\"\n",
        "I would give my world to lift you up.\n",
        "Because you're so smooth.\"\"\""
      ],
      "metadata": {
        "id": "wXdIQ8ETgnQ1"
      },
      "execution_count": null,
      "outputs": []
    },
    {
      "cell_type": "code",
      "source": [
        "myList=smooth_chorus.split(\"\\n\")"
      ],
      "metadata": {
        "id": "NzKtATewgnN8"
      },
      "execution_count": null,
      "outputs": []
    },
    {
      "cell_type": "code",
      "source": [
        "myList"
      ],
      "metadata": {
        "colab": {
          "base_uri": "https://localhost:8080/"
        },
        "id": "-CaxJHGignLz",
        "outputId": "7d6d78ca-cb22-4128-8ada-a4c668e61b67"
      },
      "execution_count": null,
      "outputs": [
        {
          "output_type": "execute_result",
          "data": {
            "text/plain": [
              "['And if you said, \"This life ain\\'t good enough.\"',\n",
              " 'I would give my world to lift you up.',\n",
              " \"Because you're so smooth.\"]"
            ]
          },
          "metadata": {},
          "execution_count": 110
        }
      ]
    },
    {
      "cell_type": "code",
      "source": [
        "smooth_chorus.splitlines()"
      ],
      "metadata": {
        "colab": {
          "base_uri": "https://localhost:8080/"
        },
        "id": "cCoA__u4gnJa",
        "outputId": "5d1f35c5-55b9-4cab-85a2-6eef48be1b7a"
      },
      "execution_count": null,
      "outputs": [
        {
          "output_type": "execute_result",
          "data": {
            "text/plain": [
              "['And if you said, \"This life ain\\'t good enough.\"',\n",
              " 'I would give my world to lift you up.',\n",
              " \"Because you're so smooth.\"]"
            ]
          },
          "metadata": {},
          "execution_count": 111
        }
      ]
    },
    {
      "cell_type": "code",
      "source": [
        "string6=\"benim adım khan, \"dedi adam\"\""
      ],
      "metadata": {
        "id": "gY8HT7cIgnHZ"
      },
      "execution_count": null,
      "outputs": []
    },
    {
      "cell_type": "code",
      "source": [
        "string6=\"benim adım khan, \\\"dedi adam\\\"\""
      ],
      "metadata": {
        "id": "Tz3BXS5pgnC7"
      },
      "execution_count": null,
      "outputs": []
    },
    {
      "cell_type": "code",
      "source": [
        "print(string6)"
      ],
      "metadata": {
        "colab": {
          "base_uri": "https://localhost:8080/"
        },
        "id": "7CnrBXrxgm_U",
        "outputId": "63715255-320e-4dc5-92c3-401188002e55"
      },
      "execution_count": null,
      "outputs": [
        {
          "output_type": "stream",
          "name": "stdout",
          "text": [
            "benim adım khan, \"dedi adam\"\n"
          ]
        }
      ]
    },
    {
      "cell_type": "code",
      "source": [
        "print(\"ab\\bc\")"
      ],
      "metadata": {
        "colab": {
          "base_uri": "https://localhost:8080/"
        },
        "id": "87gnolIygm7T",
        "outputId": "7a69942b-4c28-46e9-a602-b7e5333a2592"
      },
      "execution_count": null,
      "outputs": [
        {
          "output_type": "stream",
          "name": "stdout",
          "text": [
            "ab\bc\n"
          ]
        }
      ]
    },
    {
      "cell_type": "code",
      "source": [
        "print(\"Hello\\t\\t\\tWorld\")"
      ],
      "metadata": {
        "colab": {
          "base_uri": "https://localhost:8080/"
        },
        "id": "_R9Mh99egm1D",
        "outputId": "71d804e9-d5b7-4ee0-90ac-aa4925d8fc0c"
      },
      "execution_count": null,
      "outputs": [
        {
          "output_type": "stream",
          "name": "stdout",
          "text": [
            "Hello\t\t\tWorld\n"
          ]
        }
      ]
    },
    {
      "cell_type": "code",
      "source": [
        "kripto=str.maketrans(\"aiouhe\",\"§5+?*]\")"
      ],
      "metadata": {
        "id": "Lf_xipn8Ztfr"
      },
      "execution_count": null,
      "outputs": []
    },
    {
      "cell_type": "code",
      "source": [
        "kriptoText=smooth_chorus.translate(kripto)"
      ],
      "metadata": {
        "id": "tp4NNgxYZtUj"
      },
      "execution_count": null,
      "outputs": []
    },
    {
      "cell_type": "code",
      "source": [
        "kriptoText"
      ],
      "metadata": {
        "colab": {
          "base_uri": "https://localhost:8080/",
          "height": 53
        },
        "id": "1LCiQmyS1qsh",
        "outputId": "eb4cb1e1-0f74-445d-fbf4-7af824ff8402"
      },
      "execution_count": null,
      "outputs": [
        {
          "output_type": "execute_result",
          "data": {
            "application/vnd.google.colaboratory.intrinsic+json": {
              "type": "string"
            },
            "text/plain": [
              "'And 5f y+? s§5d, \"T*5s l5f] §5n\\'t g++d ]n+?g*.\"\\nI w+?ld g5v] my w+rld t+ l5ft y+? ?p.\\nB]c§?s] y+?\\'r] s+ sm++t*.'"
            ]
          },
          "metadata": {},
          "execution_count": 122
        }
      ]
    },
    {
      "cell_type": "code",
      "source": [
        "kriptoFix=str.maketrans(\"§5+?*]\",\"aiouhe\",)"
      ],
      "metadata": {
        "id": "GBYpbxWt1q1z"
      },
      "execution_count": null,
      "outputs": []
    },
    {
      "cell_type": "code",
      "source": [
        "kriptoFixed=kriptoText.translate(kriptoFix)"
      ],
      "metadata": {
        "id": "KXB3aAdQoaTr"
      },
      "execution_count": null,
      "outputs": []
    },
    {
      "cell_type": "code",
      "source": [
        "kriptoFixed"
      ],
      "metadata": {
        "colab": {
          "base_uri": "https://localhost:8080/",
          "height": 53
        },
        "id": "fH28UNAQoaPG",
        "outputId": "ade33f29-ac0a-421a-dd25-872a30315bc5"
      },
      "execution_count": null,
      "outputs": [
        {
          "output_type": "execute_result",
          "data": {
            "application/vnd.google.colaboratory.intrinsic+json": {
              "type": "string"
            },
            "text/plain": [
              "'And if you said, \"This life ain\\'t good enough.\"\\nI would give my world to lift you up.\\nBecause you\\'re so smooth.'"
            ]
          },
          "metadata": {},
          "execution_count": 126
        }
      ]
    },
    {
      "cell_type": "code",
      "source": [
        "myName=\"benim adım {}\"\n",
        "name=\"murat\"\n",
        "myName.format(name)"
      ],
      "metadata": {
        "colab": {
          "base_uri": "https://localhost:8080/",
          "height": 35
        },
        "id": "0OMrSdAKoaNJ",
        "outputId": "c6df8341-aa84-4b68-9a20-acf9233e0377"
      },
      "execution_count": null,
      "outputs": [
        {
          "output_type": "execute_result",
          "data": {
            "application/vnd.google.colaboratory.intrinsic+json": {
              "type": "string"
            },
            "text/plain": [
              "'benim adım murat'"
            ]
          },
          "metadata": {},
          "execution_count": 128
        }
      ]
    },
    {
      "cell_type": "code",
      "source": [
        "\"hello {} your balance is {}\".format(\"murat\",3500)"
      ],
      "metadata": {
        "colab": {
          "base_uri": "https://localhost:8080/",
          "height": 35
        },
        "id": "aWOWwlgyoaLO",
        "outputId": "cc753de9-a777-42b1-b637-61978a8e62e3"
      },
      "execution_count": null,
      "outputs": [
        {
          "output_type": "execute_result",
          "data": {
            "application/vnd.google.colaboratory.intrinsic+json": {
              "type": "string"
            },
            "text/plain": [
              "'hello murat your balance is 3500'"
            ]
          },
          "metadata": {},
          "execution_count": 129
        }
      ]
    },
    {
      "cell_type": "code",
      "source": [
        "\"hello {name} your balance is {money}\".format(money=3500,name=\"murat\")"
      ],
      "metadata": {
        "colab": {
          "base_uri": "https://localhost:8080/",
          "height": 35
        },
        "id": "5Vb26twyoaBC",
        "outputId": "4e921e93-f89a-4c98-b0c1-91e3616872a5"
      },
      "execution_count": null,
      "outputs": [
        {
          "output_type": "execute_result",
          "data": {
            "application/vnd.google.colaboratory.intrinsic+json": {
              "type": "string"
            },
            "text/plain": [
              "'hello murat your balance is 3500'"
            ]
          },
          "metadata": {},
          "execution_count": 130
        }
      ]
    },
    {
      "cell_type": "code",
      "source": [
        "\"{1}{2}{3}\".format(\"alo\") #çalışmıyor"
      ],
      "metadata": {
        "id": "S23NYR-0zM-8"
      },
      "execution_count": null,
      "outputs": []
    },
    {
      "cell_type": "code",
      "source": [
        "\"{0}{1}{0}\".format(\"abra\",\"cad\")"
      ],
      "metadata": {
        "colab": {
          "base_uri": "https://localhost:8080/",
          "height": 35
        },
        "id": "usgnIanAzM7a",
        "outputId": "c6832506-5159-4dde-96e9-1a5019c395a4"
      },
      "execution_count": null,
      "outputs": [
        {
          "output_type": "execute_result",
          "data": {
            "application/vnd.google.colaboratory.intrinsic+json": {
              "type": "string"
            },
            "text/plain": [
              "'abracadabra'"
            ]
          },
          "metadata": {},
          "execution_count": 133
        }
      ]
    },
    {
      "cell_type": "code",
      "source": [
        "coord=(3,5)\n",
        "\"x:{0[0]};y:{0[1]}\".format(coord)"
      ],
      "metadata": {
        "colab": {
          "base_uri": "https://localhost:8080/",
          "height": 35
        },
        "id": "e55rs2VazM31",
        "outputId": "ad252da3-f930-4178-8024-9661250f1808"
      },
      "execution_count": null,
      "outputs": [
        {
          "output_type": "execute_result",
          "data": {
            "application/vnd.google.colaboratory.intrinsic+json": {
              "type": "string"
            },
            "text/plain": [
              "'x:3;y:5'"
            ]
          },
          "metadata": {},
          "execution_count": 134
        }
      ]
    },
    {
      "cell_type": "code",
      "source": [
        "\"{:<30}\".format(\"sola yasla bakalım\")"
      ],
      "metadata": {
        "colab": {
          "base_uri": "https://localhost:8080/",
          "height": 35
        },
        "id": "gQjxLNsuzMzm",
        "outputId": "415d185d-65dc-4a66-b47d-1355371acda6"
      },
      "execution_count": null,
      "outputs": [
        {
          "output_type": "execute_result",
          "data": {
            "application/vnd.google.colaboratory.intrinsic+json": {
              "type": "string"
            },
            "text/plain": [
              "'sola yasla bakalım            '"
            ]
          },
          "metadata": {},
          "execution_count": 135
        }
      ]
    },
    {
      "cell_type": "code",
      "source": [
        "\"{:>30}\".format(\"sağa yasla bakalım\")"
      ],
      "metadata": {
        "colab": {
          "base_uri": "https://localhost:8080/",
          "height": 35
        },
        "id": "xAUnRyDxzMv3",
        "outputId": "d9f51c63-f312-465d-a109-163b11e09d69"
      },
      "execution_count": null,
      "outputs": [
        {
          "output_type": "execute_result",
          "data": {
            "application/vnd.google.colaboratory.intrinsic+json": {
              "type": "string"
            },
            "text/plain": [
              "'            sağa yasla bakalım'"
            ]
          },
          "metadata": {},
          "execution_count": 136
        }
      ]
    },
    {
      "cell_type": "code",
      "source": [
        "\"{:^30}\".format(\"ortala\")"
      ],
      "metadata": {
        "colab": {
          "base_uri": "https://localhost:8080/",
          "height": 35
        },
        "id": "GYlg5RmIzMr-",
        "outputId": "141a4a4b-0700-4068-d599-cad1979c22c0"
      },
      "execution_count": null,
      "outputs": [
        {
          "output_type": "execute_result",
          "data": {
            "application/vnd.google.colaboratory.intrinsic+json": {
              "type": "string"
            },
            "text/plain": [
              "'            ortala            '"
            ]
          },
          "metadata": {},
          "execution_count": 137
        }
      ]
    },
    {
      "cell_type": "code",
      "source": [
        "\"{:*^30}\".format(\"ortala\")"
      ],
      "metadata": {
        "colab": {
          "base_uri": "https://localhost:8080/",
          "height": 35
        },
        "id": "eq8JF6LjzMkA",
        "outputId": "c26ab1df-6ea7-4ea2-a819-026d84bc96d8"
      },
      "execution_count": null,
      "outputs": [
        {
          "output_type": "execute_result",
          "data": {
            "application/vnd.google.colaboratory.intrinsic+json": {
              "type": "string"
            },
            "text/plain": [
              "'************ortala************'"
            ]
          },
          "metadata": {},
          "execution_count": 138
        }
      ]
    },
    {
      "cell_type": "code",
      "source": [
        "myInt=4"
      ],
      "metadata": {
        "id": "AJMDk6J2zMZ6"
      },
      "execution_count": null,
      "outputs": []
    },
    {
      "cell_type": "code",
      "source": [
        "dir(myInt)"
      ],
      "metadata": {
        "id": "eeqpB3JcoZ74",
        "colab": {
          "base_uri": "https://localhost:8080/"
        },
        "outputId": "767f639c-2b33-4484-f16b-3e2a7cda2e69"
      },
      "execution_count": null,
      "outputs": [
        {
          "output_type": "execute_result",
          "data": {
            "text/plain": [
              "['__abs__',\n",
              " '__add__',\n",
              " '__and__',\n",
              " '__bool__',\n",
              " '__ceil__',\n",
              " '__class__',\n",
              " '__delattr__',\n",
              " '__dir__',\n",
              " '__divmod__',\n",
              " '__doc__',\n",
              " '__eq__',\n",
              " '__float__',\n",
              " '__floor__',\n",
              " '__floordiv__',\n",
              " '__format__',\n",
              " '__ge__',\n",
              " '__getattribute__',\n",
              " '__getnewargs__',\n",
              " '__gt__',\n",
              " '__hash__',\n",
              " '__index__',\n",
              " '__init__',\n",
              " '__init_subclass__',\n",
              " '__int__',\n",
              " '__invert__',\n",
              " '__le__',\n",
              " '__lshift__',\n",
              " '__lt__',\n",
              " '__mod__',\n",
              " '__mul__',\n",
              " '__ne__',\n",
              " '__neg__',\n",
              " '__new__',\n",
              " '__or__',\n",
              " '__pos__',\n",
              " '__pow__',\n",
              " '__radd__',\n",
              " '__rand__',\n",
              " '__rdivmod__',\n",
              " '__reduce__',\n",
              " '__reduce_ex__',\n",
              " '__repr__',\n",
              " '__rfloordiv__',\n",
              " '__rlshift__',\n",
              " '__rmod__',\n",
              " '__rmul__',\n",
              " '__ror__',\n",
              " '__round__',\n",
              " '__rpow__',\n",
              " '__rrshift__',\n",
              " '__rshift__',\n",
              " '__rsub__',\n",
              " '__rtruediv__',\n",
              " '__rxor__',\n",
              " '__setattr__',\n",
              " '__sizeof__',\n",
              " '__str__',\n",
              " '__sub__',\n",
              " '__subclasshook__',\n",
              " '__truediv__',\n",
              " '__trunc__',\n",
              " '__xor__',\n",
              " 'bit_length',\n",
              " 'conjugate',\n",
              " 'denominator',\n",
              " 'from_bytes',\n",
              " 'imag',\n",
              " 'numerator',\n",
              " 'real',\n",
              " 'to_bytes']"
            ]
          },
          "metadata": {},
          "execution_count": 2
        }
      ]
    },
    {
      "cell_type": "code",
      "source": [
        "myFruit=\"elma\""
      ],
      "metadata": {
        "id": "quh_GVq6oZ31"
      },
      "execution_count": null,
      "outputs": []
    },
    {
      "cell_type": "code",
      "source": [
        "dir(myFruit)"
      ],
      "metadata": {
        "id": "o65V20O2oZ0B",
        "colab": {
          "base_uri": "https://localhost:8080/"
        },
        "outputId": "23fbd218-b229-4dbf-cb4f-e0668752cae4"
      },
      "execution_count": null,
      "outputs": [
        {
          "output_type": "execute_result",
          "data": {
            "text/plain": [
              "['__add__',\n",
              " '__class__',\n",
              " '__contains__',\n",
              " '__delattr__',\n",
              " '__dir__',\n",
              " '__doc__',\n",
              " '__eq__',\n",
              " '__format__',\n",
              " '__ge__',\n",
              " '__getattribute__',\n",
              " '__getitem__',\n",
              " '__getnewargs__',\n",
              " '__gt__',\n",
              " '__hash__',\n",
              " '__init__',\n",
              " '__init_subclass__',\n",
              " '__iter__',\n",
              " '__le__',\n",
              " '__len__',\n",
              " '__lt__',\n",
              " '__mod__',\n",
              " '__mul__',\n",
              " '__ne__',\n",
              " '__new__',\n",
              " '__reduce__',\n",
              " '__reduce_ex__',\n",
              " '__repr__',\n",
              " '__rmod__',\n",
              " '__rmul__',\n",
              " '__setattr__',\n",
              " '__sizeof__',\n",
              " '__str__',\n",
              " '__subclasshook__',\n",
              " 'capitalize',\n",
              " 'casefold',\n",
              " 'center',\n",
              " 'count',\n",
              " 'encode',\n",
              " 'endswith',\n",
              " 'expandtabs',\n",
              " 'find',\n",
              " 'format',\n",
              " 'format_map',\n",
              " 'index',\n",
              " 'isalnum',\n",
              " 'isalpha',\n",
              " 'isascii',\n",
              " 'isdecimal',\n",
              " 'isdigit',\n",
              " 'isidentifier',\n",
              " 'islower',\n",
              " 'isnumeric',\n",
              " 'isprintable',\n",
              " 'isspace',\n",
              " 'istitle',\n",
              " 'isupper',\n",
              " 'join',\n",
              " 'ljust',\n",
              " 'lower',\n",
              " 'lstrip',\n",
              " 'maketrans',\n",
              " 'partition',\n",
              " 'replace',\n",
              " 'rfind',\n",
              " 'rindex',\n",
              " 'rjust',\n",
              " 'rpartition',\n",
              " 'rsplit',\n",
              " 'rstrip',\n",
              " 'split',\n",
              " 'splitlines',\n",
              " 'startswith',\n",
              " 'strip',\n",
              " 'swapcase',\n",
              " 'title',\n",
              " 'translate',\n",
              " 'upper',\n",
              " 'zfill']"
            ]
          },
          "metadata": {},
          "execution_count": 4
        }
      ]
    },
    {
      "cell_type": "code",
      "source": [
        "myBoo=True"
      ],
      "metadata": {
        "id": "QAWO8kaToZtB"
      },
      "execution_count": null,
      "outputs": []
    },
    {
      "cell_type": "code",
      "source": [
        "dir(myBoo)"
      ],
      "metadata": {
        "id": "-jfqO4x3oZjZ",
        "colab": {
          "base_uri": "https://localhost:8080/"
        },
        "outputId": "2d72e15a-2b4c-4095-e04d-cd1179ad2c26"
      },
      "execution_count": null,
      "outputs": [
        {
          "output_type": "execute_result",
          "data": {
            "text/plain": [
              "['__abs__',\n",
              " '__add__',\n",
              " '__and__',\n",
              " '__bool__',\n",
              " '__ceil__',\n",
              " '__class__',\n",
              " '__delattr__',\n",
              " '__dir__',\n",
              " '__divmod__',\n",
              " '__doc__',\n",
              " '__eq__',\n",
              " '__float__',\n",
              " '__floor__',\n",
              " '__floordiv__',\n",
              " '__format__',\n",
              " '__ge__',\n",
              " '__getattribute__',\n",
              " '__getnewargs__',\n",
              " '__gt__',\n",
              " '__hash__',\n",
              " '__index__',\n",
              " '__init__',\n",
              " '__init_subclass__',\n",
              " '__int__',\n",
              " '__invert__',\n",
              " '__le__',\n",
              " '__lshift__',\n",
              " '__lt__',\n",
              " '__mod__',\n",
              " '__mul__',\n",
              " '__ne__',\n",
              " '__neg__',\n",
              " '__new__',\n",
              " '__or__',\n",
              " '__pos__',\n",
              " '__pow__',\n",
              " '__radd__',\n",
              " '__rand__',\n",
              " '__rdivmod__',\n",
              " '__reduce__',\n",
              " '__reduce_ex__',\n",
              " '__repr__',\n",
              " '__rfloordiv__',\n",
              " '__rlshift__',\n",
              " '__rmod__',\n",
              " '__rmul__',\n",
              " '__ror__',\n",
              " '__round__',\n",
              " '__rpow__',\n",
              " '__rrshift__',\n",
              " '__rshift__',\n",
              " '__rsub__',\n",
              " '__rtruediv__',\n",
              " '__rxor__',\n",
              " '__setattr__',\n",
              " '__sizeof__',\n",
              " '__str__',\n",
              " '__sub__',\n",
              " '__subclasshook__',\n",
              " '__truediv__',\n",
              " '__trunc__',\n",
              " '__xor__',\n",
              " 'bit_length',\n",
              " 'conjugate',\n",
              " 'denominator',\n",
              " 'from_bytes',\n",
              " 'imag',\n",
              " 'numerator',\n",
              " 'real',\n",
              " 'to_bytes']"
            ]
          },
          "metadata": {},
          "execution_count": 6
        }
      ]
    },
    {
      "cell_type": "code",
      "source": [
        "name=\"john\"\n",
        "age=23"
      ],
      "metadata": {
        "id": "1dOo_VSGZ5L3"
      },
      "execution_count": null,
      "outputs": []
    },
    {
      "cell_type": "code",
      "source": [
        "\"%s is %d years old\"%(name,age)"
      ],
      "metadata": {
        "colab": {
          "base_uri": "https://localhost:8080/",
          "height": 35
        },
        "id": "jLP5cVGcZ5IT",
        "outputId": "fc7a10f7-eec0-4370-8eb9-478dbafbc4ac"
      },
      "execution_count": null,
      "outputs": [
        {
          "output_type": "execute_result",
          "data": {
            "application/vnd.google.colaboratory.intrinsic+json": {
              "type": "string"
            },
            "text/plain": [
              "'john is 23 years old'"
            ]
          },
          "metadata": {},
          "execution_count": 11
        }
      ]
    },
    {
      "cell_type": "code",
      "source": [
        "\"In %d years I have spotted %g %s.\"%(3, 0.1, 'camels')"
      ],
      "metadata": {
        "colab": {
          "base_uri": "https://localhost:8080/",
          "height": 35
        },
        "id": "-HE8BFZuZ5Ee",
        "outputId": "64e5aa45-9d89-4c3b-e5fb-f11d012b3f9b"
      },
      "execution_count": null,
      "outputs": [
        {
          "output_type": "execute_result",
          "data": {
            "application/vnd.google.colaboratory.intrinsic+json": {
              "type": "string"
            },
            "text/plain": [
              "'In 3 years I have spotted 0.1 camels.'"
            ]
          },
          "metadata": {},
          "execution_count": 12
        }
      ]
    },
    {
      "cell_type": "code",
      "source": [
        "data={\"first\":\"Hector\", \"second\":\"Hello Doctor\"}"
      ],
      "metadata": {
        "id": "uBV4FlOeZ5A9"
      },
      "execution_count": null,
      "outputs": []
    },
    {
      "cell_type": "code",
      "source": [
        "\"{first} {second}\".format_map(data)"
      ],
      "metadata": {
        "colab": {
          "base_uri": "https://localhost:8080/",
          "height": 35
        },
        "id": "L1A-JrgCZ49R",
        "outputId": "01640b51-f8ee-486f-9bb9-adf434438ea0"
      },
      "execution_count": null,
      "outputs": [
        {
          "output_type": "execute_result",
          "data": {
            "application/vnd.google.colaboratory.intrinsic+json": {
              "type": "string"
            },
            "text/plain": [
              "'Hector Hello Doctor'"
            ]
          },
          "metadata": {},
          "execution_count": 14
        }
      ]
    },
    {
      "cell_type": "code",
      "source": [
        "txt=\"center\"\n",
        "print(txt.center(10))"
      ],
      "metadata": {
        "colab": {
          "base_uri": "https://localhost:8080/"
        },
        "id": "AK8Zv7DQZ458",
        "outputId": "2cef7192-1543-4270-ea56-83b92694fbf4"
      },
      "execution_count": null,
      "outputs": [
        {
          "output_type": "stream",
          "name": "stdout",
          "text": [
            "  center  \n"
          ]
        }
      ]
    },
    {
      "cell_type": "code",
      "source": [
        "myText=\"The logs are stored immutably with a default retention period of 7 years. The retention period is adjustable anywhere between 7 days and 7 years. It is currently possible to collect data on both management events and data events. Management events include all control plane operations such as configuring security, registering devices, configuring rules for routing data, and setting up logging. Data events by default are not included in CloudTrails and cover data plane operations such as S3 API activity on buckets and objects, Lambda function execution activity, or DynamoDB object-level API activity.\""
      ],
      "metadata": {
        "id": "c37N0zF9Z42C"
      },
      "execution_count": null,
      "outputs": []
    },
    {
      "cell_type": "code",
      "source": [
        "print(myText.count(\"and\"))"
      ],
      "metadata": {
        "colab": {
          "base_uri": "https://localhost:8080/"
        },
        "id": "Xj11vhEmZ4xt",
        "outputId": "eb180546-e721-478c-9a1d-02a22a9883bc"
      },
      "execution_count": null,
      "outputs": [
        {
          "output_type": "stream",
          "name": "stdout",
          "text": [
            "5\n"
          ]
        }
      ]
    },
    {
      "cell_type": "code",
      "source": [
        "print(myText.encode())"
      ],
      "metadata": {
        "colab": {
          "base_uri": "https://localhost:8080/"
        },
        "id": "m_Cbgn9AZ4pl",
        "outputId": "2c9616b2-061a-4c52-963c-bf0653da39dd"
      },
      "execution_count": null,
      "outputs": [
        {
          "output_type": "stream",
          "name": "stdout",
          "text": [
            "b'The logs are stored immutably with a default retention period of 7 years. The retention period is adjustable anywhere between 7 days and 7 years. It is currently possible to collect data on both management events and data events. Management events include all control plane operations such as configuring security, registering devices, configuring rules for routing data, and setting up logging. Data events by default are not included in CloudTrails and cover data plane operations such as S3 API activity on buckets and objects, Lambda function execution activity, or DynamoDB object-level API activity.'\n"
          ]
        }
      ]
    },
    {
      "cell_type": "code",
      "source": [
        "print(myText.find(\"*\"))"
      ],
      "metadata": {
        "colab": {
          "base_uri": "https://localhost:8080/"
        },
        "id": "J-ncTuVQmx-o",
        "outputId": "cedb1b60-a7a2-4f28-c8e1-0544dbdc362a"
      },
      "execution_count": null,
      "outputs": [
        {
          "output_type": "stream",
          "name": "stdout",
          "text": [
            "-1\n"
          ]
        }
      ]
    },
    {
      "cell_type": "code",
      "source": [
        "print(myText.index(\"Lambda\"))"
      ],
      "metadata": {
        "colab": {
          "base_uri": "https://localhost:8080/"
        },
        "id": "pNVpAMKamx7j",
        "outputId": "dace2770-e12b-4034-821d-776f30c05508"
      },
      "execution_count": null,
      "outputs": [
        {
          "output_type": "stream",
          "name": "stdout",
          "text": [
            "531\n"
          ]
        }
      ]
    },
    {
      "cell_type": "code",
      "source": [
        "print(myText.count(\"are\"))"
      ],
      "metadata": {
        "colab": {
          "base_uri": "https://localhost:8080/"
        },
        "id": "mRgy18Oemx4R",
        "outputId": "9155cf78-8a20-4c53-f76f-d448a0039f98"
      },
      "execution_count": null,
      "outputs": [
        {
          "output_type": "stream",
          "name": "stdout",
          "text": [
            "2\n"
          ]
        }
      ]
    },
    {
      "cell_type": "code",
      "source": [
        "print(myText.endswith(\".\"))"
      ],
      "metadata": {
        "colab": {
          "base_uri": "https://localhost:8080/"
        },
        "id": "74UGoJc9mx1w",
        "outputId": "dc6b9c2f-86c4-4b51-8d44-2326a739400a"
      },
      "execution_count": null,
      "outputs": [
        {
          "output_type": "stream",
          "name": "stdout",
          "text": [
            "True\n"
          ]
        }
      ]
    },
    {
      "cell_type": "code",
      "source": [
        "print(myText.startswith(\" \"))"
      ],
      "metadata": {
        "colab": {
          "base_uri": "https://localhost:8080/"
        },
        "id": "WDzQY_9nmxyx",
        "outputId": "a789574b-b712-43e1-9e65-d1193ac2dc79"
      },
      "execution_count": null,
      "outputs": [
        {
          "output_type": "stream",
          "name": "stdout",
          "text": [
            "False\n"
          ]
        }
      ]
    },
    {
      "cell_type": "code",
      "source": [
        "print(txt.center(24,\"*\"))"
      ],
      "metadata": {
        "colab": {
          "base_uri": "https://localhost:8080/"
        },
        "id": "lWRHPbCkmxv4",
        "outputId": "2b39a5df-d8f0-45f0-ea34-b814e1798645"
      },
      "execution_count": null,
      "outputs": [
        {
          "output_type": "stream",
          "name": "stdout",
          "text": [
            "*********center*********\n"
          ]
        }
      ]
    },
    {
      "cell_type": "code",
      "source": [
        "print(\"#\".center(5,\"-\"))"
      ],
      "metadata": {
        "colab": {
          "base_uri": "https://localhost:8080/"
        },
        "id": "HaruOHt2C6Hj",
        "outputId": "94788acf-ac1e-42de-f074-00fdb3800808"
      },
      "execution_count": null,
      "outputs": [
        {
          "output_type": "stream",
          "name": "stdout",
          "text": [
            "--#--\n"
          ]
        }
      ]
    },
    {
      "cell_type": "code",
      "source": [
        "print(\"###\".center(5,\"-\"))"
      ],
      "metadata": {
        "colab": {
          "base_uri": "https://localhost:8080/"
        },
        "id": "1zUJOzP8C6FK",
        "outputId": "72a3d42c-e581-4bbd-e1e3-93d92c15af93"
      },
      "execution_count": null,
      "outputs": [
        {
          "output_type": "stream",
          "name": "stdout",
          "text": [
            "-###-\n"
          ]
        }
      ]
    },
    {
      "cell_type": "code",
      "source": [
        "print(\"#\"*5)"
      ],
      "metadata": {
        "colab": {
          "base_uri": "https://localhost:8080/"
        },
        "id": "xu7dTTg8C6CA",
        "outputId": "a1c9e056-ad9c-4aa0-9319-dd2c2984ca14"
      },
      "execution_count": null,
      "outputs": [
        {
          "output_type": "stream",
          "name": "stdout",
          "text": [
            "#####\n"
          ]
        }
      ]
    },
    {
      "cell_type": "code",
      "source": [
        "mystring=\"xyz\\tabc\\t123\""
      ],
      "metadata": {
        "id": "qD9yBChNmxtP"
      },
      "execution_count": null,
      "outputs": []
    },
    {
      "cell_type": "code",
      "source": [
        "mystring.expandtabs()"
      ],
      "metadata": {
        "colab": {
          "base_uri": "https://localhost:8080/",
          "height": 35
        },
        "id": "73Npf2Edmxqx",
        "outputId": "2fd4524e-47dc-46f8-a1c6-ae2cce19ded7"
      },
      "execution_count": null,
      "outputs": [
        {
          "output_type": "execute_result",
          "data": {
            "application/vnd.google.colaboratory.intrinsic+json": {
              "type": "string"
            },
            "text/plain": [
              "'xyz     abc     123'"
            ]
          },
          "metadata": {},
          "execution_count": 40
        }
      ]
    },
    {
      "cell_type": "code",
      "source": [
        "mystring=\"hello\"\n",
        "mystring.find(\"o\")"
      ],
      "metadata": {
        "colab": {
          "base_uri": "https://localhost:8080/"
        },
        "id": "E1rKbSRSmxny",
        "outputId": "74dd3071-ed0d-4134-e3f4-3677e69a1c8f"
      },
      "execution_count": null,
      "outputs": [
        {
          "output_type": "execute_result",
          "data": {
            "text/plain": [
              "4"
            ]
          },
          "metadata": {},
          "execution_count": 41
        }
      ]
    },
    {
      "cell_type": "code",
      "source": [
        "mystring[0]"
      ],
      "metadata": {
        "colab": {
          "base_uri": "https://localhost:8080/",
          "height": 35
        },
        "id": "pP9SuKVomxkO",
        "outputId": "366603a5-24e8-4e07-b49e-e0358e537f16"
      },
      "execution_count": null,
      "outputs": [
        {
          "output_type": "execute_result",
          "data": {
            "application/vnd.google.colaboratory.intrinsic+json": {
              "type": "string"
            },
            "text/plain": [
              "'h'"
            ]
          },
          "metadata": {},
          "execution_count": 42
        }
      ]
    },
    {
      "cell_type": "code",
      "source": [
        "mystring[3:]"
      ],
      "metadata": {
        "colab": {
          "base_uri": "https://localhost:8080/",
          "height": 35
        },
        "id": "NdNCOY2tGQYV",
        "outputId": "5a75de31-3e66-4f7a-f864-f24e05e09fbb"
      },
      "execution_count": null,
      "outputs": [
        {
          "output_type": "execute_result",
          "data": {
            "application/vnd.google.colaboratory.intrinsic+json": {
              "type": "string"
            },
            "text/plain": [
              "'lo'"
            ]
          },
          "metadata": {},
          "execution_count": 43
        }
      ]
    },
    {
      "cell_type": "code",
      "source": [
        "mystring.index(\"h\")"
      ],
      "metadata": {
        "colab": {
          "base_uri": "https://localhost:8080/"
        },
        "id": "D4KV5fmFGQU8",
        "outputId": "99d9369e-f239-4f6d-ea22-8a92518c2bda"
      },
      "execution_count": null,
      "outputs": [
        {
          "output_type": "execute_result",
          "data": {
            "text/plain": [
              "0"
            ]
          },
          "metadata": {},
          "execution_count": 44
        }
      ]
    },
    {
      "cell_type": "code",
      "source": [
        "astring=\"Hello on github\""
      ],
      "metadata": {
        "id": "IClODrF0GQOb"
      },
      "execution_count": null,
      "outputs": []
    },
    {
      "cell_type": "code",
      "source": [
        "astring.rindex(\"g\")"
      ],
      "metadata": {
        "colab": {
          "base_uri": "https://localhost:8080/"
        },
        "id": "dxwwTapGGQLX",
        "outputId": "4bb6f7e7-57ee-4b61-f997-0e26ccb29664"
      },
      "execution_count": null,
      "outputs": [
        {
          "output_type": "execute_result",
          "data": {
            "text/plain": [
              "9"
            ]
          },
          "metadata": {},
          "execution_count": 54
        }
      ]
    },
    {
      "cell_type": "code",
      "source": [
        "astring.index(\"g\")"
      ],
      "metadata": {
        "colab": {
          "base_uri": "https://localhost:8080/"
        },
        "id": "fYnpv3LqGQIU",
        "outputId": "78a61459-1ee7-4093-f939-cc67871fbe01"
      },
      "execution_count": null,
      "outputs": [
        {
          "output_type": "execute_result",
          "data": {
            "text/plain": [
              "9"
            ]
          },
          "metadata": {},
          "execution_count": 53
        }
      ]
    },
    {
      "cell_type": "code",
      "source": [
        "astring.find(\"g\")"
      ],
      "metadata": {
        "colab": {
          "base_uri": "https://localhost:8080/"
        },
        "id": "lIKuza-sIRTH",
        "outputId": "4b7dfa85-eddf-46dd-a3c8-d7ed1f1279bf"
      },
      "execution_count": null,
      "outputs": [
        {
          "output_type": "execute_result",
          "data": {
            "text/plain": [
              "9"
            ]
          },
          "metadata": {},
          "execution_count": 57
        }
      ]
    },
    {
      "cell_type": "code",
      "source": [
        "myStrings=(\"Assistant Secretary General: genseky@metu.edu.tr\")"
      ],
      "metadata": {
        "id": "zyd7GUddIRPa"
      },
      "execution_count": null,
      "outputs": []
    },
    {
      "cell_type": "code",
      "source": [
        "myStrings.find(\" \")"
      ],
      "metadata": {
        "colab": {
          "base_uri": "https://localhost:8080/"
        },
        "id": "8r9kC0veMeeS",
        "outputId": "83c796be-a21c-4a21-825b-cffb0ee8de45"
      },
      "execution_count": null,
      "outputs": [
        {
          "output_type": "execute_result",
          "data": {
            "text/plain": [
              "9"
            ]
          },
          "metadata": {},
          "execution_count": 70
        }
      ]
    },
    {
      "cell_type": "code",
      "source": [
        "myStrings.rfind(\" \")"
      ],
      "metadata": {
        "colab": {
          "base_uri": "https://localhost:8080/"
        },
        "id": "iACkOin8MeVg",
        "outputId": "c19bda2d-9a4c-401c-fd1f-bf511b9ca132"
      },
      "execution_count": null,
      "outputs": [
        {
          "output_type": "execute_result",
          "data": {
            "text/plain": [
              "29"
            ]
          },
          "metadata": {},
          "execution_count": 71
        }
      ]
    },
    {
      "cell_type": "code",
      "source": [
        "start=myStrings.rfind(\" \")"
      ],
      "metadata": {
        "id": "-kRaFYlxMeNo"
      },
      "execution_count": null,
      "outputs": []
    },
    {
      "cell_type": "code",
      "source": [
        "myStrings.isdigit()"
      ],
      "metadata": {
        "colab": {
          "base_uri": "https://localhost:8080/"
        },
        "id": "uh2MAct8MeGo",
        "outputId": "11aec9e2-f56a-485f-ff15-f659e429a1ea"
      },
      "execution_count": null,
      "outputs": [
        {
          "output_type": "execute_result",
          "data": {
            "text/plain": [
              "False"
            ]
          },
          "metadata": {},
          "execution_count": 73
        }
      ]
    },
    {
      "cell_type": "code",
      "source": [
        "myStrings.isprintable()"
      ],
      "metadata": {
        "colab": {
          "base_uri": "https://localhost:8080/"
        },
        "id": "j9w6DFkfOlJo",
        "outputId": "d2331662-52c3-47ad-8ebf-5f710542f888"
      },
      "execution_count": null,
      "outputs": [
        {
          "output_type": "execute_result",
          "data": {
            "text/plain": [
              "True"
            ]
          },
          "metadata": {},
          "execution_count": 74
        }
      ]
    },
    {
      "cell_type": "code",
      "source": [
        "from string import Template"
      ],
      "metadata": {
        "id": "41rKynzmOlGp"
      },
      "execution_count": null,
      "outputs": []
    },
    {
      "cell_type": "code",
      "source": [
        "t=Template(\"$name is the $title of $company\")"
      ],
      "metadata": {
        "id": "JWU-bUJyOlCH"
      },
      "execution_count": null,
      "outputs": []
    },
    {
      "cell_type": "code",
      "source": [
        "t.substitute(name=\"TechPro\", title=\"name\",company=\"Professional Technology Education\")"
      ],
      "metadata": {
        "colab": {
          "base_uri": "https://localhost:8080/",
          "height": 35
        },
        "id": "76dKor_hOk_J",
        "outputId": "344964b0-555c-438b-f062-36347118bf23"
      },
      "execution_count": null,
      "outputs": [
        {
          "output_type": "execute_result",
          "data": {
            "application/vnd.google.colaboratory.intrinsic+json": {
              "type": "string"
            },
            "text/plain": [
              "'TechPro is the name of Professional Technology Education'"
            ]
          },
          "metadata": {},
          "execution_count": 77
        }
      ]
    },
    {
      "cell_type": "code",
      "source": [
        "myStrings.find(\"@\")"
      ],
      "metadata": {
        "colab": {
          "base_uri": "https://localhost:8080/"
        },
        "id": "kmP0oicJIQ7i",
        "outputId": "4d708b8b-aedf-4072-d39c-17b830170c9f"
      },
      "execution_count": null,
      "outputs": [
        {
          "output_type": "execute_result",
          "data": {
            "text/plain": [
              "37"
            ]
          },
          "metadata": {},
          "execution_count": 62
        }
      ]
    },
    {
      "cell_type": "code",
      "source": [
        "print(len(myStrings))"
      ],
      "metadata": {
        "colab": {
          "base_uri": "https://localhost:8080/"
        },
        "id": "MUKQZyT2IQ4X",
        "outputId": "4462db7f-0a4e-4512-e4b8-6a2dd13f829b"
      },
      "execution_count": null,
      "outputs": [
        {
          "output_type": "stream",
          "name": "stdout",
          "text": [
            "49\n"
          ]
        }
      ]
    },
    {
      "cell_type": "code",
      "source": [
        "print(myStrings[48])"
      ],
      "metadata": {
        "colab": {
          "base_uri": "https://localhost:8080/"
        },
        "id": "UpSdgDn5IQyW",
        "outputId": "47d8cb14-93dd-4f83-bd37-0867cff90759"
      },
      "execution_count": null,
      "outputs": [
        {
          "output_type": "stream",
          "name": "stdout",
          "text": [
            "r\n"
          ]
        }
      ]
    },
    {
      "cell_type": "code",
      "source": [
        "myStrings.find(\":\")"
      ],
      "metadata": {
        "colab": {
          "base_uri": "https://localhost:8080/"
        },
        "id": "YZBYL2MZIQn7",
        "outputId": "ed7e0440-bfa3-4ec6-9d0e-25ae40030833"
      },
      "execution_count": null,
      "outputs": [
        {
          "output_type": "execute_result",
          "data": {
            "text/plain": [
              "28"
            ]
          },
          "metadata": {},
          "execution_count": 67
        }
      ]
    },
    {
      "cell_type": "code",
      "source": [
        "myStrings[30:49]"
      ],
      "metadata": {
        "colab": {
          "base_uri": "https://localhost:8080/",
          "height": 35
        },
        "id": "pWRNMp0JmxhX",
        "outputId": "3e360e7c-672d-45af-8561-5037b8c76fd3"
      },
      "execution_count": null,
      "outputs": [
        {
          "output_type": "execute_result",
          "data": {
            "application/vnd.google.colaboratory.intrinsic+json": {
              "type": "string"
            },
            "text/plain": [
              "'genseky@metu.edu.tr'"
            ]
          },
          "metadata": {},
          "execution_count": 69
        }
      ]
    },
    {
      "cell_type": "markdown",
      "source": [
        "SAYISAL SABİT ve DEĞİŞKENLER"
      ],
      "metadata": {
        "id": "WxtpWnBuTIJG"
      }
    },
    {
      "cell_type": "code",
      "source": [
        "type(100000000000)"
      ],
      "metadata": {
        "colab": {
          "base_uri": "https://localhost:8080/"
        },
        "id": "EDn4xQ-hLsk9",
        "outputId": "6e6bf9b0-aa9d-41b9-ae9b-a40b984f28a1"
      },
      "execution_count": null,
      "outputs": [
        {
          "output_type": "execute_result",
          "data": {
            "text/plain": [
              "int"
            ]
          },
          "metadata": {},
          "execution_count": 80
        }
      ]
    },
    {
      "cell_type": "code",
      "source": [
        "x=1_2345_6789_10"
      ],
      "metadata": {
        "id": "9G44UQKmLshU"
      },
      "execution_count": null,
      "outputs": []
    },
    {
      "cell_type": "code",
      "source": [
        "print(x)"
      ],
      "metadata": {
        "colab": {
          "base_uri": "https://localhost:8080/"
        },
        "id": "Y14GjzzyLsd7",
        "outputId": "0bbac4e8-07c9-454d-dd20-91a5d69ebd9a"
      },
      "execution_count": null,
      "outputs": [
        {
          "output_type": "stream",
          "name": "stdout",
          "text": [
            "12345678910\n"
          ]
        }
      ]
    },
    {
      "cell_type": "code",
      "source": [
        "z=0b11011000"
      ],
      "metadata": {
        "id": "OynzYfmDLsXn"
      },
      "execution_count": null,
      "outputs": []
    },
    {
      "cell_type": "code",
      "source": [
        "z"
      ],
      "metadata": {
        "colab": {
          "base_uri": "https://localhost:8080/"
        },
        "id": "QmBeY13wmxen",
        "outputId": "b1b3d13c-1151-49ac-bb95-75472c39050c"
      },
      "execution_count": null,
      "outputs": [
        {
          "output_type": "execute_result",
          "data": {
            "text/plain": [
              "216"
            ]
          },
          "metadata": {},
          "execution_count": 85
        }
      ]
    },
    {
      "cell_type": "code",
      "source": [
        "bool(False)"
      ],
      "metadata": {
        "colab": {
          "base_uri": "https://localhost:8080/"
        },
        "id": "kXw32HVZmxbc",
        "outputId": "1b6e40a2-f668-4140-aff3-2101bf0b70cb"
      },
      "execution_count": null,
      "outputs": [
        {
          "output_type": "execute_result",
          "data": {
            "text/plain": [
              "False"
            ]
          },
          "metadata": {},
          "execution_count": 87
        }
      ]
    },
    {
      "cell_type": "code",
      "source": [
        "bool(None)"
      ],
      "metadata": {
        "colab": {
          "base_uri": "https://localhost:8080/"
        },
        "id": "zahQTMqZmxYU",
        "outputId": "6f23a786-8d42-4550-efba-c1abe8d6eeb1"
      },
      "execution_count": null,
      "outputs": [
        {
          "output_type": "execute_result",
          "data": {
            "text/plain": [
              "False"
            ]
          },
          "metadata": {},
          "execution_count": 88
        }
      ]
    },
    {
      "cell_type": "code",
      "source": [
        "bool(0)"
      ],
      "metadata": {
        "colab": {
          "base_uri": "https://localhost:8080/"
        },
        "id": "5xRJ4hf3mxOw",
        "outputId": "0c8e80fa-5c16-4ef1-b879-22489ec29a47"
      },
      "execution_count": null,
      "outputs": [
        {
          "output_type": "execute_result",
          "data": {
            "text/plain": [
              "False"
            ]
          },
          "metadata": {},
          "execution_count": 89
        }
      ]
    },
    {
      "cell_type": "code",
      "source": [
        "bool(\"\")"
      ],
      "metadata": {
        "colab": {
          "base_uri": "https://localhost:8080/"
        },
        "id": "IyxzdWvBTyXr",
        "outputId": "cae2ecc4-7741-44d7-a7bc-9586893f19b8"
      },
      "execution_count": null,
      "outputs": [
        {
          "output_type": "execute_result",
          "data": {
            "text/plain": [
              "False"
            ]
          },
          "metadata": {},
          "execution_count": 90
        }
      ]
    },
    {
      "cell_type": "code",
      "source": [
        "bool(())"
      ],
      "metadata": {
        "colab": {
          "base_uri": "https://localhost:8080/"
        },
        "id": "WFuodYAeTyMd",
        "outputId": "cf2fa583-1874-46ac-b214-8f81894b72d0"
      },
      "execution_count": null,
      "outputs": [
        {
          "output_type": "execute_result",
          "data": {
            "text/plain": [
              "False"
            ]
          },
          "metadata": {},
          "execution_count": 91
        }
      ]
    },
    {
      "cell_type": "code",
      "source": [
        "a=3\n",
        "a*a"
      ],
      "metadata": {
        "colab": {
          "base_uri": "https://localhost:8080/"
        },
        "id": "yjJDZNLcTyJa",
        "outputId": "1d1f0054-078c-467d-cad9-a8a66d355b75"
      },
      "execution_count": null,
      "outputs": [
        {
          "output_type": "execute_result",
          "data": {
            "text/plain": [
              "9"
            ]
          },
          "metadata": {},
          "execution_count": 92
        }
      ]
    },
    {
      "cell_type": "code",
      "source": [
        "a*a//a"
      ],
      "metadata": {
        "colab": {
          "base_uri": "https://localhost:8080/"
        },
        "id": "Rtgic8qvUU7K",
        "outputId": "c659a95a-2262-455a-c760-c4bb80e45ce5"
      },
      "execution_count": null,
      "outputs": [
        {
          "output_type": "execute_result",
          "data": {
            "text/plain": [
              "3"
            ]
          },
          "metadata": {},
          "execution_count": 93
        }
      ]
    },
    {
      "cell_type": "code",
      "source": [
        "x=20\n",
        "y=30\n",
        "x+=y\n"
      ],
      "metadata": {
        "id": "tKMI1_kAUU5O"
      },
      "execution_count": null,
      "outputs": []
    },
    {
      "cell_type": "code",
      "source": [
        "print(x,y)"
      ],
      "metadata": {
        "colab": {
          "base_uri": "https://localhost:8080/"
        },
        "id": "6PsEmjP6UU3K",
        "outputId": "9bbbc677-9d3e-456a-9f4b-d15e9ed6049f"
      },
      "execution_count": null,
      "outputs": [
        {
          "output_type": "stream",
          "name": "stdout",
          "text": [
            "50 30\n"
          ]
        }
      ]
    },
    {
      "cell_type": "code",
      "source": [
        "x<y"
      ],
      "metadata": {
        "colab": {
          "base_uri": "https://localhost:8080/"
        },
        "id": "8vOI6ki-UU0S",
        "outputId": "6f7803dd-0110-4604-e995-74275a91c7f1"
      },
      "execution_count": null,
      "outputs": [
        {
          "output_type": "execute_result",
          "data": {
            "text/plain": [
              "False"
            ]
          },
          "metadata": {},
          "execution_count": 99
        }
      ]
    },
    {
      "cell_type": "code",
      "source": [
        "x==y"
      ],
      "metadata": {
        "colab": {
          "base_uri": "https://localhost:8080/"
        },
        "id": "JkaViT-hUUwY",
        "outputId": "d28eb6a1-0483-4e6c-ee83-b58a50483a03"
      },
      "execution_count": null,
      "outputs": [
        {
          "output_type": "execute_result",
          "data": {
            "text/plain": [
              "False"
            ]
          },
          "metadata": {},
          "execution_count": 100
        }
      ]
    },
    {
      "cell_type": "code",
      "source": [
        "x>y"
      ],
      "metadata": {
        "colab": {
          "base_uri": "https://localhost:8080/"
        },
        "id": "AuoBllXSUUtb",
        "outputId": "86db1a99-b5ed-4c93-a5a6-5aa7bb4af659"
      },
      "execution_count": null,
      "outputs": [
        {
          "output_type": "execute_result",
          "data": {
            "text/plain": [
              "True"
            ]
          },
          "metadata": {},
          "execution_count": 101
        }
      ]
    },
    {
      "cell_type": "code",
      "source": [
        "5>2 and 5>1"
      ],
      "metadata": {
        "colab": {
          "base_uri": "https://localhost:8080/"
        },
        "id": "L2KZHslAUUq-",
        "outputId": "9fdd8d03-c4c8-4ea2-e998-eb9c404e333c"
      },
      "execution_count": null,
      "outputs": [
        {
          "output_type": "execute_result",
          "data": {
            "text/plain": [
              "True"
            ]
          },
          "metadata": {},
          "execution_count": 102
        }
      ]
    },
    {
      "cell_type": "code",
      "source": [
        "5>2 or 5>7"
      ],
      "metadata": {
        "colab": {
          "base_uri": "https://localhost:8080/"
        },
        "id": "v5Sto-lVUUoZ",
        "outputId": "8ff1b878-240f-4167-8914-15519651cd0d"
      },
      "execution_count": null,
      "outputs": [
        {
          "output_type": "execute_result",
          "data": {
            "text/plain": [
              "True"
            ]
          },
          "metadata": {},
          "execution_count": 103
        }
      ]
    },
    {
      "cell_type": "code",
      "source": [
        "x=5; y=6\n",
        "x is y"
      ],
      "metadata": {
        "colab": {
          "base_uri": "https://localhost:8080/"
        },
        "id": "_eCqDOaGTyGZ",
        "outputId": "c20ca7e6-9d84-47c4-b205-0727a8a3855c"
      },
      "execution_count": null,
      "outputs": [
        {
          "output_type": "execute_result",
          "data": {
            "text/plain": [
              "False"
            ]
          },
          "metadata": {},
          "execution_count": 104
        }
      ]
    },
    {
      "cell_type": "code",
      "source": [
        "x=6; y=6\n",
        "x is y"
      ],
      "metadata": {
        "colab": {
          "base_uri": "https://localhost:8080/"
        },
        "id": "YuWJwy6DTyB8",
        "outputId": "c243282c-b0fb-4b67-9fd3-f4606a54b191"
      },
      "execution_count": null,
      "outputs": [
        {
          "output_type": "execute_result",
          "data": {
            "text/plain": [
              "True"
            ]
          },
          "metadata": {},
          "execution_count": 105
        }
      ]
    },
    {
      "cell_type": "code",
      "source": [
        "a=\"merhaba\"\n",
        "'a' in a"
      ],
      "metadata": {
        "colab": {
          "base_uri": "https://localhost:8080/"
        },
        "id": "exRKx9n3XhC5",
        "outputId": "1a613a17-22c9-4a4f-e820-57f9c5d2121c"
      },
      "execution_count": null,
      "outputs": [
        {
          "output_type": "execute_result",
          "data": {
            "text/plain": [
              "True"
            ]
          },
          "metadata": {},
          "execution_count": 106
        }
      ]
    },
    {
      "cell_type": "code",
      "source": [
        "'x' in a"
      ],
      "metadata": {
        "colab": {
          "base_uri": "https://localhost:8080/"
        },
        "id": "JwQwSIwrXhAB",
        "outputId": "a56be175-54be-47b4-8211-133f0331c89e"
      },
      "execution_count": null,
      "outputs": [
        {
          "output_type": "execute_result",
          "data": {
            "text/plain": [
              "False"
            ]
          },
          "metadata": {},
          "execution_count": 107
        }
      ]
    },
    {
      "cell_type": "code",
      "source": [
        "'x' not in a"
      ],
      "metadata": {
        "colab": {
          "base_uri": "https://localhost:8080/"
        },
        "id": "8qxrrD50Xg9S",
        "outputId": "e825ef5f-5d2f-4848-ae8a-1150ba461f11"
      },
      "execution_count": null,
      "outputs": [
        {
          "output_type": "execute_result",
          "data": {
            "text/plain": [
              "True"
            ]
          },
          "metadata": {},
          "execution_count": 108
        }
      ]
    },
    {
      "cell_type": "code",
      "source": [
        "round(3,7)"
      ],
      "metadata": {
        "colab": {
          "base_uri": "https://localhost:8080/"
        },
        "id": "msK9mfTyXg65",
        "outputId": "a71890c0-abe3-42e5-dd5b-94c288c3a2f0"
      },
      "execution_count": null,
      "outputs": [
        {
          "output_type": "execute_result",
          "data": {
            "text/plain": [
              "3"
            ]
          },
          "metadata": {},
          "execution_count": 109
        }
      ]
    },
    {
      "cell_type": "code",
      "source": [
        "round(3.67,2)"
      ],
      "metadata": {
        "colab": {
          "base_uri": "https://localhost:8080/"
        },
        "id": "mVrQ1RIxXg4H",
        "outputId": "245ec0b9-9228-4972-cb3d-f977d5dc5da6"
      },
      "execution_count": null,
      "outputs": [
        {
          "output_type": "execute_result",
          "data": {
            "text/plain": [
              "3.67"
            ]
          },
          "metadata": {},
          "execution_count": 111
        }
      ]
    },
    {
      "cell_type": "code",
      "source": [
        "userName=\"murat\""
      ],
      "metadata": {
        "id": "nN3fHegrXg10"
      },
      "execution_count": null,
      "outputs": []
    },
    {
      "cell_type": "code",
      "source": [
        "loginName=input(\"kullanıcı adı girin: \").lower()\n",
        "isimDogruMu=bool(loginName==userName)\n",
        "print(\"login olabilir mi: {}\".format(isimDogruMu))"
      ],
      "metadata": {
        "colab": {
          "base_uri": "https://localhost:8080/"
        },
        "id": "PxdADWGkXgzv",
        "outputId": "1c6e453b-08ed-4d37-a0a1-5fb95f237ada"
      },
      "execution_count": null,
      "outputs": [
        {
          "output_type": "stream",
          "name": "stdout",
          "text": [
            "kullanıcı adı girin: mURat\n",
            "login olabilir mi: True\n"
          ]
        }
      ]
    },
    {
      "cell_type": "markdown",
      "source": [
        "kullanıcıdan alınan bir yarıçap değeri ile darire çevre ve alanını hesaplayan program"
      ],
      "metadata": {
        "id": "HBF9HF6saQKd"
      }
    },
    {
      "cell_type": "code",
      "source": [
        "myString=\"Python is perfect, isn't it?\""
      ],
      "metadata": {
        "id": "DpKR4yXBXgxY"
      },
      "execution_count": null,
      "outputs": []
    },
    {
      "cell_type": "code",
      "source": [
        "myString.endswith(\"?\")"
      ],
      "metadata": {
        "id": "wg3D9ErxaO3o",
        "colab": {
          "base_uri": "https://localhost:8080/"
        },
        "outputId": "c7a91b46-7527-46fb-d139-19007aa3eadb"
      },
      "execution_count": null,
      "outputs": [
        {
          "output_type": "execute_result",
          "data": {
            "text/plain": [
              "True"
            ]
          },
          "metadata": {},
          "execution_count": 2
        }
      ]
    },
    {
      "cell_type": "code",
      "source": [
        "myString.startswith(\"a\")"
      ],
      "metadata": {
        "id": "F0YdyqeFXgtt",
        "colab": {
          "base_uri": "https://localhost:8080/"
        },
        "outputId": "4bea9407-a5bd-4b77-fa2b-2704acb4e208"
      },
      "execution_count": null,
      "outputs": [
        {
          "output_type": "execute_result",
          "data": {
            "text/plain": [
              "False"
            ]
          },
          "metadata": {},
          "execution_count": 3
        }
      ]
    },
    {
      "cell_type": "code",
      "source": [
        "myString=\"Hello\""
      ],
      "metadata": {
        "id": "LhHMSjLTTx9_"
      },
      "execution_count": null,
      "outputs": []
    },
    {
      "cell_type": "code",
      "source": [
        "myString.center(24,\"%\")"
      ],
      "metadata": {
        "id": "z8Zqde7pTx6v",
        "colab": {
          "base_uri": "https://localhost:8080/",
          "height": 35
        },
        "outputId": "a85f15fc-7a4f-4299-de79-9efe7fe5b9f7"
      },
      "execution_count": null,
      "outputs": [
        {
          "output_type": "execute_result",
          "data": {
            "application/vnd.google.colaboratory.intrinsic+json": {
              "type": "string"
            },
            "text/plain": [
              "'%%%%%%%%%Hello%%%%%%%%%%'"
            ]
          },
          "metadata": {},
          "execution_count": 7
        }
      ]
    },
    {
      "cell_type": "code",
      "source": [
        "data=\"from mefeka@yahoo.com Sat Jan 4 19:10:13 2022\""
      ],
      "metadata": {
        "id": "qlLjaOuwoW7K"
      },
      "execution_count": null,
      "outputs": []
    },
    {
      "cell_type": "code",
      "source": [
        "data[data.find(\"@\")+1:data.find(\" \",data.find(\"@\"))]"
      ],
      "metadata": {
        "colab": {
          "base_uri": "https://localhost:8080/",
          "height": 35
        },
        "id": "xIKHD5bnnsAw",
        "outputId": "00d40275-98e9-4c96-e6ac-8ac5ede53536"
      },
      "execution_count": null,
      "outputs": [
        {
          "output_type": "execute_result",
          "data": {
            "application/vnd.google.colaboratory.intrinsic+json": {
              "type": "string"
            },
            "text/plain": [
              "'gmail.com'"
            ]
          },
          "metadata": {},
          "execution_count": 9
        }
      ]
    },
    {
      "cell_type": "code",
      "source": [
        "x=0b11011000\n",
        "#binary"
      ],
      "metadata": {
        "id": "bpmTfKV5nuxR"
      },
      "execution_count": null,
      "outputs": []
    },
    {
      "cell_type": "code",
      "source": [
        "x"
      ],
      "metadata": {
        "id": "HvCPzvPDnu_5",
        "colab": {
          "base_uri": "https://localhost:8080/"
        },
        "outputId": "7add6f23-d500-4746-91c8-17a526544e39"
      },
      "execution_count": null,
      "outputs": [
        {
          "output_type": "execute_result",
          "data": {
            "text/plain": [
              "216"
            ]
          },
          "metadata": {},
          "execution_count": 4
        }
      ]
    },
    {
      "cell_type": "code",
      "source": [
        "x=20; y=5"
      ],
      "metadata": {
        "id": "X1t5Cz3PnvHR"
      },
      "execution_count": null,
      "outputs": []
    },
    {
      "cell_type": "code",
      "source": [
        "print(x//y)"
      ],
      "metadata": {
        "id": "DDZ0zqXMnvPR",
        "colab": {
          "base_uri": "https://localhost:8080/"
        },
        "outputId": "3b9f5fa9-52da-4586-c535-7b7449d14f03"
      },
      "execution_count": null,
      "outputs": [
        {
          "output_type": "stream",
          "name": "stdout",
          "text": [
            "4\n"
          ]
        }
      ]
    },
    {
      "cell_type": "code",
      "source": [
        "x=20;y=30;x+=y"
      ],
      "metadata": {
        "id": "2Gx94k5snvWW"
      },
      "execution_count": null,
      "outputs": []
    },
    {
      "cell_type": "code",
      "source": [
        "x,y"
      ],
      "metadata": {
        "colab": {
          "base_uri": "https://localhost:8080/"
        },
        "id": "z_6jB6xjuHgb",
        "outputId": "c94832bd-0618-4007-d5f6-94d8ea4eaebe"
      },
      "execution_count": null,
      "outputs": [
        {
          "output_type": "execute_result",
          "data": {
            "text/plain": [
              "(50, 30)"
            ]
          },
          "metadata": {},
          "execution_count": 9
        }
      ]
    },
    {
      "cell_type": "code",
      "source": [
        "x=5;y=6"
      ],
      "metadata": {
        "id": "cVT8szQQuHjw"
      },
      "execution_count": null,
      "outputs": []
    },
    {
      "cell_type": "code",
      "source": [
        "x==y"
      ],
      "metadata": {
        "colab": {
          "base_uri": "https://localhost:8080/"
        },
        "id": "2co1vpynuHnI",
        "outputId": "482943f3-5c4e-4b9b-c730-fd17fd25a1d6"
      },
      "execution_count": null,
      "outputs": [
        {
          "output_type": "execute_result",
          "data": {
            "text/plain": [
              "False"
            ]
          },
          "metadata": {},
          "execution_count": 11
        }
      ]
    },
    {
      "cell_type": "code",
      "source": [
        "x!=y"
      ],
      "metadata": {
        "colab": {
          "base_uri": "https://localhost:8080/"
        },
        "id": "XsKVgA3FuHqL",
        "outputId": "7b912ebc-e489-487b-e373-e6d740f2fb68"
      },
      "execution_count": null,
      "outputs": [
        {
          "output_type": "execute_result",
          "data": {
            "text/plain": [
              "True"
            ]
          },
          "metadata": {},
          "execution_count": 12
        }
      ]
    },
    {
      "cell_type": "code",
      "source": [
        "5>2 and 5>1"
      ],
      "metadata": {
        "colab": {
          "base_uri": "https://localhost:8080/"
        },
        "id": "KXda9sZTuHth",
        "outputId": "37f00703-cad3-4c0e-ba87-548c000e9e44"
      },
      "execution_count": null,
      "outputs": [
        {
          "output_type": "execute_result",
          "data": {
            "text/plain": [
              "True"
            ]
          },
          "metadata": {},
          "execution_count": 13
        }
      ]
    },
    {
      "cell_type": "code",
      "source": [
        "5>2 and 1>5"
      ],
      "metadata": {
        "colab": {
          "base_uri": "https://localhost:8080/"
        },
        "id": "mPQ3gHqNuHwS",
        "outputId": "c3901759-76f8-4a8c-bd47-a644603e6a23"
      },
      "execution_count": null,
      "outputs": [
        {
          "output_type": "execute_result",
          "data": {
            "text/plain": [
              "False"
            ]
          },
          "metadata": {},
          "execution_count": 15
        }
      ]
    },
    {
      "cell_type": "code",
      "source": [
        "x is y"
      ],
      "metadata": {
        "colab": {
          "base_uri": "https://localhost:8080/"
        },
        "id": "JYG2-oDnuHzg",
        "outputId": "5b6d526f-abc7-4402-9a61-3b1adbc6976b"
      },
      "execution_count": null,
      "outputs": [
        {
          "output_type": "execute_result",
          "data": {
            "text/plain": [
              "False"
            ]
          },
          "metadata": {},
          "execution_count": 16
        }
      ]
    },
    {
      "cell_type": "code",
      "source": [
        "x is not y"
      ],
      "metadata": {
        "colab": {
          "base_uri": "https://localhost:8080/"
        },
        "id": "ken8Y-hwuH2u",
        "outputId": "e58ef488-dea9-4706-95fe-2b422a9c894d"
      },
      "execution_count": null,
      "outputs": [
        {
          "output_type": "execute_result",
          "data": {
            "text/plain": [
              "True"
            ]
          },
          "metadata": {},
          "execution_count": 17
        }
      ]
    },
    {
      "cell_type": "code",
      "source": [
        "astring=\"Hello World\""
      ],
      "metadata": {
        "id": "we2-E20QuH8G"
      },
      "execution_count": null,
      "outputs": []
    },
    {
      "cell_type": "code",
      "source": [
        "\"o\" in astring"
      ],
      "metadata": {
        "colab": {
          "base_uri": "https://localhost:8080/"
        },
        "id": "YX5pY97IuH-o",
        "outputId": "959113d6-c76a-4a33-f618-c9a8bb85c4ce"
      },
      "execution_count": null,
      "outputs": [
        {
          "output_type": "execute_result",
          "data": {
            "text/plain": [
              "True"
            ]
          },
          "metadata": {},
          "execution_count": 21
        }
      ]
    },
    {
      "cell_type": "code",
      "source": [
        "kullanıcı=\"murat\"\n",
        "girilen=input(\"adınız: \").lower()\n",
        "bool(kullanıcı==girilen)"
      ],
      "metadata": {
        "colab": {
          "base_uri": "https://localhost:8080/"
        },
        "id": "A2dLfoPYuIBw",
        "outputId": "25ca130f-8917-4e75-daf9-a42d467c82e0"
      },
      "execution_count": null,
      "outputs": [
        {
          "name": "stdout",
          "output_type": "stream",
          "text": [
            "adınız: MUraT\n"
          ]
        },
        {
          "output_type": "execute_result",
          "data": {
            "text/plain": [
              "True"
            ]
          },
          "metadata": {},
          "execution_count": 22
        }
      ]
    },
    {
      "cell_type": "code",
      "source": [
        "a=[1,2]"
      ],
      "metadata": {
        "id": "sNXvE9C7uIFN"
      },
      "execution_count": null,
      "outputs": []
    },
    {
      "cell_type": "code",
      "source": [
        "bool(a)"
      ],
      "metadata": {
        "colab": {
          "base_uri": "https://localhost:8080/"
        },
        "id": "IdeArFdFuIH7",
        "outputId": "27b6ce6e-5a28-411a-d33e-a8aec93a9435"
      },
      "execution_count": null,
      "outputs": [
        {
          "output_type": "execute_result",
          "data": {
            "text/plain": [
              "True"
            ]
          },
          "metadata": {},
          "execution_count": 24
        }
      ]
    },
    {
      "cell_type": "code",
      "source": [
        "a=[]"
      ],
      "metadata": {
        "id": "Zzn8EZmQuIKm"
      },
      "execution_count": null,
      "outputs": []
    },
    {
      "cell_type": "code",
      "source": [
        "bool(a)\n",
        "#bool boş listeler için false döndürür"
      ],
      "metadata": {
        "colab": {
          "base_uri": "https://localhost:8080/"
        },
        "id": "9_n8_qwsuINV",
        "outputId": "d7e34c97-7047-4eb6-fc77-7c2f0a9a303f"
      },
      "execution_count": null,
      "outputs": [
        {
          "output_type": "execute_result",
          "data": {
            "text/plain": [
              "False"
            ]
          },
          "metadata": {},
          "execution_count": 26
        }
      ]
    },
    {
      "cell_type": "code",
      "source": [
        "no=int(input(\"bir sayı giriniz: \"))\n",
        "what=bool(no%2==0)\n",
        "print(\" {} çift mi: {}\".format(no,what))"
      ],
      "metadata": {
        "colab": {
          "base_uri": "https://localhost:8080/"
        },
        "id": "jVkomyyduIQn",
        "outputId": "b4b8436d-24d5-4f62-b943-16d28de1dc9d"
      },
      "execution_count": null,
      "outputs": [
        {
          "output_type": "stream",
          "name": "stdout",
          "text": [
            "bir sayı giriniz: 5\n",
            " 5 çift mi: False\n"
          ]
        }
      ]
    },
    {
      "cell_type": "code",
      "source": [
        "sn=int(input(\"saniye girin: \"))\n",
        "dk=sn//60\n",
        "sa=dk//60\n",
        "print(sn, \"saniye \", dk, \" dakika \", sa ,\" saattir.\")"
      ],
      "metadata": {
        "colab": {
          "base_uri": "https://localhost:8080/"
        },
        "id": "pqOM5SObuIVk",
        "outputId": "c8a1c24f-d907-405e-8524-9b52262afced"
      },
      "execution_count": null,
      "outputs": [
        {
          "output_type": "stream",
          "name": "stdout",
          "text": [
            "saniye girin: 60000\n",
            "60000 saniye  1000  dakika  16  saattir.\n"
          ]
        }
      ]
    },
    {
      "cell_type": "code",
      "source": [
        "sn=int(input(\"saniye girin: \"))\n",
        "sa=sn//3600\n",
        "kalansn=sn%3600\n",
        "dk=kalansn//60\n",
        "sonkalansn=kalansn%60\n",
        "print(\" {}  saniye, {} saniye {}  dakika, {}  saattir. \".format(sn,sonkalansn,dk,sa))"
      ],
      "metadata": {
        "colab": {
          "base_uri": "https://localhost:8080/"
        },
        "id": "HwrtvLxFuIY5",
        "outputId": "e21f48f8-f84b-4c9f-d657-cce952057f0a"
      },
      "execution_count": null,
      "outputs": [
        {
          "output_type": "stream",
          "name": "stdout",
          "text": [
            "saniye girin: 60000\n",
            " 60000  saniye, 0 saniye 40  dakika, 16  saattir. \n"
          ]
        }
      ]
    },
    {
      "cell_type": "code",
      "source": [
        "\"bat\">\"ball\""
      ],
      "metadata": {
        "colab": {
          "base_uri": "https://localhost:8080/"
        },
        "id": "lDELyz7NuEJf",
        "outputId": "5ad16c0b-00df-47e5-efe2-f1a1ca972b14"
      },
      "execution_count": null,
      "outputs": [
        {
          "output_type": "execute_result",
          "data": {
            "text/plain": [
              "True"
            ]
          },
          "metadata": {},
          "execution_count": 43
        }
      ]
    },
    {
      "cell_type": "code",
      "source": [
        "\"cat\"<\"rat\""
      ],
      "metadata": {
        "colab": {
          "base_uri": "https://localhost:8080/"
        },
        "id": "t-izQYHGuERD",
        "outputId": "7eaf4bb7-d2a1-445a-9fb2-629ff808e1ad"
      },
      "execution_count": null,
      "outputs": [
        {
          "output_type": "execute_result",
          "data": {
            "text/plain": [
              "True"
            ]
          },
          "metadata": {},
          "execution_count": 44
        }
      ]
    },
    {
      "cell_type": "code",
      "source": [
        "\"b\">\"a\"\n",
        "#alfabetik olarak sonra gelen daha büyük oluyor"
      ],
      "metadata": {
        "colab": {
          "base_uri": "https://localhost:8080/"
        },
        "id": "upZDoHF1uEZ3",
        "outputId": "f7c88293-084f-4d28-b9d2-14cb4b9a89a8"
      },
      "execution_count": null,
      "outputs": [
        {
          "output_type": "execute_result",
          "data": {
            "text/plain": [
              "True"
            ]
          },
          "metadata": {},
          "execution_count": 46
        }
      ]
    },
    {
      "cell_type": "code",
      "source": [
        "a=5;b=3"
      ],
      "metadata": {
        "id": "aPGB--jwuEdq"
      },
      "execution_count": null,
      "outputs": []
    },
    {
      "cell_type": "code",
      "source": [
        "a>b and a<b"
      ],
      "metadata": {
        "colab": {
          "base_uri": "https://localhost:8080/"
        },
        "id": "dpP8KGN-uEhA",
        "outputId": "c8c737db-bc48-4a69-958d-e0cbd0f349c8"
      },
      "execution_count": null,
      "outputs": [
        {
          "output_type": "execute_result",
          "data": {
            "text/plain": [
              "False"
            ]
          },
          "metadata": {},
          "execution_count": 49
        }
      ]
    },
    {
      "cell_type": "code",
      "source": [
        "not(a>b and a<b)"
      ],
      "metadata": {
        "colab": {
          "base_uri": "https://localhost:8080/"
        },
        "id": "9Ld10a5TuEkX",
        "outputId": "ea720ad1-0750-4027-ca6b-3d58501e7d41"
      },
      "execution_count": null,
      "outputs": [
        {
          "output_type": "execute_result",
          "data": {
            "text/plain": [
              "True"
            ]
          },
          "metadata": {},
          "execution_count": 50
        }
      ]
    },
    {
      "cell_type": "code",
      "source": [
        "True or False"
      ],
      "metadata": {
        "colab": {
          "base_uri": "https://localhost:8080/"
        },
        "id": "PEp8eYVduEm9",
        "outputId": "45224f9c-d493-4073-d567-4c46536d3f73"
      },
      "execution_count": null,
      "outputs": [
        {
          "output_type": "execute_result",
          "data": {
            "text/plain": [
              "True"
            ]
          },
          "metadata": {},
          "execution_count": 52
        }
      ]
    },
    {
      "cell_type": "code",
      "source": [
        "False or True and False"
      ],
      "metadata": {
        "colab": {
          "base_uri": "https://localhost:8080/"
        },
        "id": "WFyVK1aZuErL",
        "outputId": "f36e2f16-2493-4cb6-8e03-ebb12369f4ac"
      },
      "execution_count": null,
      "outputs": [
        {
          "output_type": "execute_result",
          "data": {
            "text/plain": [
              "False"
            ]
          },
          "metadata": {},
          "execution_count": 57
        }
      ]
    },
    {
      "cell_type": "code",
      "source": [
        "(False or True) and False"
      ],
      "metadata": {
        "colab": {
          "base_uri": "https://localhost:8080/"
        },
        "id": "ZIwTwO0XuEuD",
        "outputId": "52670178-39a8-471c-ee4c-86411fad6deb"
      },
      "execution_count": null,
      "outputs": [
        {
          "output_type": "execute_result",
          "data": {
            "text/plain": [
              "False"
            ]
          },
          "metadata": {},
          "execution_count": 58
        }
      ]
    },
    {
      "cell_type": "code",
      "source": [
        "x=5;y=7\n",
        "x is y"
      ],
      "metadata": {
        "colab": {
          "base_uri": "https://localhost:8080/"
        },
        "id": "WLu6hqIduExt",
        "outputId": "b693eb2b-6e14-48bd-86a4-51b32fcf3daa"
      },
      "execution_count": null,
      "outputs": [
        {
          "output_type": "execute_result",
          "data": {
            "text/plain": [
              "False"
            ]
          },
          "metadata": {},
          "execution_count": 59
        }
      ]
    },
    {
      "cell_type": "code",
      "source": [
        "var1=\"Teachers\"\n",
        "var2=\"Tutorials\"\n",
        "var3=\"TeachersTutorials\""
      ],
      "metadata": {
        "id": "3M6J4ZQV-_F1"
      },
      "execution_count": null,
      "outputs": []
    },
    {
      "cell_type": "code",
      "source": [
        "var1+var2==var3"
      ],
      "metadata": {
        "colab": {
          "base_uri": "https://localhost:8080/"
        },
        "id": "ZAa38rYZ-_Po",
        "outputId": "68184a6d-c3de-4a9e-f5d4-185dfb722e4b"
      },
      "execution_count": null,
      "outputs": [
        {
          "output_type": "execute_result",
          "data": {
            "text/plain": [
              "True"
            ]
          },
          "metadata": {},
          "execution_count": 61
        }
      ]
    },
    {
      "cell_type": "code",
      "source": [
        "var1+var2 is var3\n",
        "#is operatörü == gbi çalışmayabiliyor, dikkat!!"
      ],
      "metadata": {
        "colab": {
          "base_uri": "https://localhost:8080/"
        },
        "id": "cI3-qD7s-_TU",
        "outputId": "672658da-47b6-496c-a96c-956963530a45"
      },
      "execution_count": null,
      "outputs": [
        {
          "output_type": "execute_result",
          "data": {
            "text/plain": [
              "False"
            ]
          },
          "metadata": {},
          "execution_count": 62
        }
      ]
    },
    {
      "cell_type": "code",
      "source": [
        "metin='Merhaba'"
      ],
      "metadata": {
        "id": "tEMR7-l_-_YX"
      },
      "execution_count": null,
      "outputs": []
    },
    {
      "cell_type": "code",
      "source": [
        "'h' in metin"
      ],
      "metadata": {
        "colab": {
          "base_uri": "https://localhost:8080/"
        },
        "id": "u8weW25B-_bl",
        "outputId": "732b859f-0191-4804-fc01-4c921d1397a4"
      },
      "execution_count": null,
      "outputs": [
        {
          "output_type": "execute_result",
          "data": {
            "text/plain": [
              "True"
            ]
          },
          "metadata": {},
          "execution_count": 64
        }
      ]
    },
    {
      "cell_type": "code",
      "source": [
        "'E' not in metin"
      ],
      "metadata": {
        "colab": {
          "base_uri": "https://localhost:8080/"
        },
        "id": "OLxXFo7_-_e1",
        "outputId": "976cb48c-677c-47cc-a471-9dd6e9ddd7bb"
      },
      "execution_count": null,
      "outputs": [
        {
          "output_type": "execute_result",
          "data": {
            "text/plain": [
              "True"
            ]
          },
          "metadata": {},
          "execution_count": 65
        }
      ]
    },
    {
      "cell_type": "code",
      "source": [
        "data={'y':1,'x':2}"
      ],
      "metadata": {
        "id": "2xhxU-xF-_iK"
      },
      "execution_count": null,
      "outputs": []
    },
    {
      "cell_type": "code",
      "source": [
        "'y' in data"
      ],
      "metadata": {
        "colab": {
          "base_uri": "https://localhost:8080/"
        },
        "id": "ZeLgmiQk-_lJ",
        "outputId": "f8d12ef7-4727-40ff-ba08-e0ee38419178"
      },
      "execution_count": null,
      "outputs": [
        {
          "output_type": "execute_result",
          "data": {
            "text/plain": [
              "True"
            ]
          },
          "metadata": {},
          "execution_count": 67
        }
      ]
    },
    {
      "cell_type": "code",
      "source": [
        "1 in data\n",
        "#key değeri dönüyor, value değil!"
      ],
      "metadata": {
        "colab": {
          "base_uri": "https://localhost:8080/"
        },
        "id": "5zAP3FOu-_nx",
        "outputId": "d059a681-5a65-4c13-a9b8-2c924241d3d4"
      },
      "execution_count": null,
      "outputs": [
        {
          "output_type": "execute_result",
          "data": {
            "text/plain": [
              "False"
            ]
          },
          "metadata": {},
          "execution_count": 68
        }
      ]
    },
    {
      "cell_type": "code",
      "source": [
        "import operator\n",
        "operator.add(5,6)"
      ],
      "metadata": {
        "colab": {
          "base_uri": "https://localhost:8080/"
        },
        "id": "xi-a4iVB-_qY",
        "outputId": "6f80d10b-e1c0-45c9-88fb-472e9f08e017"
      },
      "execution_count": null,
      "outputs": [
        {
          "output_type": "execute_result",
          "data": {
            "text/plain": [
              "11"
            ]
          },
          "metadata": {},
          "execution_count": 69
        }
      ]
    },
    {
      "cell_type": "code",
      "source": [
        "nums=[2,5,6]"
      ],
      "metadata": {
        "id": "G73VaIc0uE06"
      },
      "execution_count": null,
      "outputs": []
    },
    {
      "cell_type": "code",
      "source": [
        "operator.contains(nums, 2)"
      ],
      "metadata": {
        "colab": {
          "base_uri": "https://localhost:8080/"
        },
        "id": "ARcDb6rKuE3c",
        "outputId": "879ace90-26ea-4db4-a1d1-2337c5f347b8"
      },
      "execution_count": null,
      "outputs": [
        {
          "output_type": "execute_result",
          "data": {
            "text/plain": [
              "True"
            ]
          },
          "metadata": {},
          "execution_count": 71
        }
      ]
    },
    {
      "cell_type": "code",
      "source": [
        "2 in nums"
      ],
      "metadata": {
        "colab": {
          "base_uri": "https://localhost:8080/"
        },
        "id": "-gPFlDxVuE6t",
        "outputId": "e6d8068d-b314-4e18-81c6-7eabfc4a6456"
      },
      "execution_count": null,
      "outputs": [
        {
          "output_type": "execute_result",
          "data": {
            "text/plain": [
              "True"
            ]
          },
          "metadata": {},
          "execution_count": 72
        }
      ]
    },
    {
      "cell_type": "code",
      "source": [
        "#vize final hesaplayan\n",
        "vize1=float(input(\"vize 1: \"))\n",
        "vize2=float(input(\"vize 2: \"))\n",
        "final=float(input(\"final : \"))\n",
        "\n",
        "ortalama=(((vize1+vize2)/2)*0.6+final*0.4)\n",
        "gectimi=bool(ortalama>=50)\n",
        "print(\" GPA: {} Sınıf Geçme: {} \".format(ortalama,gectimi))"
      ],
      "metadata": {
        "colab": {
          "base_uri": "https://localhost:8080/"
        },
        "id": "nn8rDJpsuE9Z",
        "outputId": "b9e42b86-db9e-479c-cbd9-dd6f3f395870"
      },
      "execution_count": null,
      "outputs": [
        {
          "output_type": "stream",
          "name": "stdout",
          "text": [
            "vize 1: 56\n",
            "vize 2: 45\n",
            "final : 48\n",
            " GPA: 49.5 Sınıf Geçme: False \n"
          ]
        }
      ]
    },
    {
      "cell_type": "markdown",
      "source": [
        "**LİSTELER**\n",
        "\n",
        "*   ordered\n",
        "*   changeable\n",
        "*   duplicate values\n"
      ],
      "metadata": {
        "id": "afeMIb63HOF-"
      }
    },
    {
      "cell_type": "code",
      "source": [
        "mylist=['apple','banana','cherry']\n",
        "len(mylist)"
      ],
      "metadata": {
        "id": "ThKW8T8EuC4I",
        "colab": {
          "base_uri": "https://localhost:8080/"
        },
        "outputId": "f2b1db0a-d3e5-4f87-b9fa-bedaa06bab22"
      },
      "execution_count": 2,
      "outputs": [
        {
          "output_type": "execute_result",
          "data": {
            "text/plain": [
              "3"
            ]
          },
          "metadata": {},
          "execution_count": 2
        }
      ]
    },
    {
      "cell_type": "code",
      "source": [
        "mylist[-3]\n",
        "#index value"
      ],
      "metadata": {
        "id": "Sjg8kxtinvck",
        "colab": {
          "base_uri": "https://localhost:8080/",
          "height": 35
        },
        "outputId": "7a24676f-1c56-45e8-adad-5dd86cbcf37f"
      },
      "execution_count": 11,
      "outputs": [
        {
          "output_type": "execute_result",
          "data": {
            "application/vnd.google.colaboratory.intrinsic+json": {
              "type": "string"
            },
            "text/plain": [
              "'apple'"
            ]
          },
          "metadata": {},
          "execution_count": 11
        }
      ]
    },
    {
      "cell_type": "code",
      "source": [
        "mylist[:]\n",
        "#slicing"
      ],
      "metadata": {
        "id": "_8RYxGLLnv_R",
        "colab": {
          "base_uri": "https://localhost:8080/"
        },
        "outputId": "047512c8-cf83-41c7-f0b7-3569e4f9fdff"
      },
      "execution_count": 19,
      "outputs": [
        {
          "output_type": "execute_result",
          "data": {
            "text/plain": [
              "['apple', 'banana', 'cherry']"
            ]
          },
          "metadata": {},
          "execution_count": 19
        }
      ]
    },
    {
      "cell_type": "code",
      "source": [
        "mylist[1]=\"blueberry\"\n",
        "#change list item\n",
        "mylist"
      ],
      "metadata": {
        "colab": {
          "base_uri": "https://localhost:8080/"
        },
        "id": "oWu7YwD9OBT2",
        "outputId": "3577ab91-b10b-425f-b061-129dbb75dc86"
      },
      "execution_count": 21,
      "outputs": [
        {
          "output_type": "execute_result",
          "data": {
            "text/plain": [
              "['apple', 'blueberry', 'cherry']"
            ]
          },
          "metadata": {},
          "execution_count": 21
        }
      ]
    },
    {
      "cell_type": "code",
      "source": [
        "dataTypes=['integer','real','string','boolean']"
      ],
      "metadata": {
        "id": "N0rIaaKeOBg2"
      },
      "execution_count": 22,
      "outputs": []
    },
    {
      "cell_type": "code",
      "source": [
        "onelist=[123,'text',0.4,'y']"
      ],
      "metadata": {
        "id": "ir70SUf1OBq3"
      },
      "execution_count": 23,
      "outputs": []
    },
    {
      "cell_type": "code",
      "source": [
        "yeniListe=list(\"Hello World!\")\n",
        "#list() foksiyonu, içeriğini liste formatına çevirir"
      ],
      "metadata": {
        "id": "to01DZUkOCPd"
      },
      "execution_count": 24,
      "outputs": []
    },
    {
      "cell_type": "code",
      "source": [
        "yeniListe"
      ],
      "metadata": {
        "colab": {
          "base_uri": "https://localhost:8080/"
        },
        "id": "snVjnHXZOCnm",
        "outputId": "94b7196d-568f-437c-e324-188dcff7ef70"
      },
      "execution_count": 25,
      "outputs": [
        {
          "output_type": "execute_result",
          "data": {
            "text/plain": [
              "['H', 'e', 'l', 'l', 'o', ' ', 'W', 'o', 'r', 'l', 'd', '!']"
            ]
          },
          "metadata": {},
          "execution_count": 25
        }
      ]
    },
    {
      "cell_type": "code",
      "source": [
        "liste1=list((1,1,'a'))\n",
        "#list() fonks içinde tuple\n",
        "liste1"
      ],
      "metadata": {
        "colab": {
          "base_uri": "https://localhost:8080/"
        },
        "id": "nWm3zpDYOCsc",
        "outputId": "f8d318cb-c043-4ae9-8b3b-a978a2aa8e45"
      },
      "execution_count": 33,
      "outputs": [
        {
          "output_type": "execute_result",
          "data": {
            "text/plain": [
              "[1, 1, 'a']"
            ]
          },
          "metadata": {},
          "execution_count": 33
        }
      ]
    },
    {
      "cell_type": "code",
      "source": [
        "liste2=list({1,2,2,'z'})\n",
        "#list() fonks içinde set\n",
        "#tuple içinde tekrar eden elemanı aldı\n",
        "#set içinde tekrarı eledi\n",
        "liste2"
      ],
      "metadata": {
        "colab": {
          "base_uri": "https://localhost:8080/"
        },
        "id": "Rw90NtxyOCwd",
        "outputId": "640bf151-ab4e-4117-f6b0-467a30284d7d"
      },
      "execution_count": 37,
      "outputs": [
        {
          "output_type": "execute_result",
          "data": {
            "text/plain": [
              "[1, 2, 'z']"
            ]
          },
          "metadata": {},
          "execution_count": 37
        }
      ]
    },
    {
      "cell_type": "code",
      "source": [
        "liste3=list({'ad':'veli','yas':16})\n",
        "#key değerleri alınır, value değil\n",
        "liste3"
      ],
      "metadata": {
        "colab": {
          "base_uri": "https://localhost:8080/"
        },
        "id": "K1Y24kc_OC0s",
        "outputId": "e0b35484-830b-4a67-a56b-b47064eecdb2"
      },
      "execution_count": 39,
      "outputs": [
        {
          "output_type": "execute_result",
          "data": {
            "text/plain": [
              "['ad', 'yas']"
            ]
          },
          "metadata": {},
          "execution_count": 39
        }
      ]
    },
    {
      "cell_type": "code",
      "source": [
        "liste4=[10,13,17]\n",
        "\n",
        "\" {} {} \".format(liste4[2],liste4[0])"
      ],
      "metadata": {
        "colab": {
          "base_uri": "https://localhost:8080/",
          "height": 35
        },
        "id": "mvvgQUt3OC4l",
        "outputId": "6c61cc36-0588-464b-bf60-70bc2194aa5d"
      },
      "execution_count": 41,
      "outputs": [
        {
          "output_type": "execute_result",
          "data": {
            "application/vnd.google.colaboratory.intrinsic+json": {
              "type": "string"
            },
            "text/plain": [
              "' 17 10 '"
            ]
          },
          "metadata": {},
          "execution_count": 41
        }
      ]
    },
    {
      "cell_type": "code",
      "source": [
        "metin1=\" hello ladies and gentlemen\"\n",
        "metin1.split()\n",
        "#split() metodu verilen metni parçalara ayırır, listeye çevirir"
      ],
      "metadata": {
        "colab": {
          "base_uri": "https://localhost:8080/"
        },
        "id": "V7aTayigOC8X",
        "outputId": "2fe1ccee-f636-498b-9948-8e5adb955edb"
      },
      "execution_count": 43,
      "outputs": [
        {
          "output_type": "execute_result",
          "data": {
            "text/plain": [
              "['hello', 'ladies', 'and', 'gentlemen']"
            ]
          },
          "metadata": {},
          "execution_count": 43
        }
      ]
    },
    {
      "cell_type": "code",
      "source": [
        "metin2=metin1.split()\n",
        "type(metin2)"
      ],
      "metadata": {
        "colab": {
          "base_uri": "https://localhost:8080/"
        },
        "id": "r4iREg2PODAj",
        "outputId": "ca4034ae-99d6-4ae9-ae6a-267ea71f4e7a"
      },
      "execution_count": 47,
      "outputs": [
        {
          "output_type": "execute_result",
          "data": {
            "text/plain": [
              "list"
            ]
          },
          "metadata": {},
          "execution_count": 47
        }
      ]
    },
    {
      "cell_type": "code",
      "source": [
        "print(metin2)"
      ],
      "metadata": {
        "colab": {
          "base_uri": "https://localhost:8080/"
        },
        "id": "Mz5Rr9nzODET",
        "outputId": "343df2d7-ff55-45a2-e89c-a7887b400d6f"
      },
      "execution_count": 54,
      "outputs": [
        {
          "output_type": "stream",
          "name": "stdout",
          "text": [
            "['hello', 'ladies', 'and', 'gentlemen']\n"
          ]
        }
      ]
    },
    {
      "cell_type": "code",
      "source": [
        "metin3=\"\".join(metin2)\n",
        "#.join() metodu argumanı tek bir stringe çevirir\n",
        "print(metin3)\n",
        "type(metin3)"
      ],
      "metadata": {
        "colab": {
          "base_uri": "https://localhost:8080/"
        },
        "id": "zUgovymDODH6",
        "outputId": "1df3fa41-4e77-483a-fe29-8cddd8feac9e"
      },
      "execution_count": 58,
      "outputs": [
        {
          "output_type": "stream",
          "name": "stdout",
          "text": [
            "helloladiesandgentlemen\n"
          ]
        },
        {
          "output_type": "execute_result",
          "data": {
            "text/plain": [
              "str"
            ]
          },
          "metadata": {},
          "execution_count": 58
        }
      ]
    },
    {
      "cell_type": "code",
      "source": [
        "'hello' in metin3"
      ],
      "metadata": {
        "colab": {
          "base_uri": "https://localhost:8080/"
        },
        "id": "E6oLRfJ6ODL5",
        "outputId": "b28be9fd-4c4f-400b-bcdd-345e87a5e9ae"
      },
      "execution_count": 62,
      "outputs": [
        {
          "output_type": "execute_result",
          "data": {
            "text/plain": [
              "True"
            ]
          },
          "metadata": {},
          "execution_count": 62
        }
      ]
    },
    {
      "cell_type": "code",
      "source": [
        "'and' in metin3\n",
        "#metin3 içinde 'and' kelimesi var mı?\n",
        "#Var"
      ],
      "metadata": {
        "colab": {
          "base_uri": "https://localhost:8080/"
        },
        "id": "Adje5je_ODPl",
        "outputId": "bf2638b5-5e8c-4f00-e953-2b75bd5a86ce"
      },
      "execution_count": 63,
      "outputs": [
        {
          "output_type": "execute_result",
          "data": {
            "text/plain": [
              "True"
            ]
          },
          "metadata": {},
          "execution_count": 63
        }
      ]
    },
    {
      "cell_type": "code",
      "source": [
        "'And' in metin3\n",
        "#metin 3 içinde 'And' kelimesi var mı?\n",
        "#Yok, 'and' var"
      ],
      "metadata": {
        "colab": {
          "base_uri": "https://localhost:8080/"
        },
        "id": "4aZyOsKLODTQ",
        "outputId": "ce902dfd-789b-413a-e0df-21e61da1b863"
      },
      "execution_count": 64,
      "outputs": [
        {
          "output_type": "execute_result",
          "data": {
            "text/plain": [
              "False"
            ]
          },
          "metadata": {},
          "execution_count": 64
        }
      ]
    },
    {
      "cell_type": "code",
      "source": [
        "'And'.lower() in metin3\n",
        "#metin3 içinde 'And' kelimesinin küçük harfe çevrilmiş hali var mı?\n",
        "#var, 'And' >> 'and' çevrilerek bulundu"
      ],
      "metadata": {
        "colab": {
          "base_uri": "https://localhost:8080/"
        },
        "id": "Oc4b3CAhODWv",
        "outputId": "1f482fec-10ae-41e2-addb-65833dd93f61"
      },
      "execution_count": 66,
      "outputs": [
        {
          "output_type": "execute_result",
          "data": {
            "text/plain": [
              "True"
            ]
          },
          "metadata": {},
          "execution_count": 66
        }
      ]
    },
    {
      "cell_type": "code",
      "source": [
        "metin4=[1,3,5]\n",
        "metin5=[7,9,11]\n",
        "metin4+metin5\n",
        "#listeleri birleştirme"
      ],
      "metadata": {
        "colab": {
          "base_uri": "https://localhost:8080/"
        },
        "id": "nx_OOmghODcS",
        "outputId": "caf5f5f2-37c5-49f1-e76a-8fd9523bb50c"
      },
      "execution_count": 71,
      "outputs": [
        {
          "output_type": "execute_result",
          "data": {
            "text/plain": [
              "[1, 3, 5, 7, 9, 11]"
            ]
          },
          "metadata": {},
          "execution_count": 71
        }
      ]
    },
    {
      "cell_type": "code",
      "source": [
        "metin6=['a','b']\n",
        "metin7=['c','d']\n",
        "metin6+metin7"
      ],
      "metadata": {
        "colab": {
          "base_uri": "https://localhost:8080/"
        },
        "id": "h4aQari7ODej",
        "outputId": "60d2bb7f-e82b-4542-f724-5cdda65dc417"
      },
      "execution_count": 73,
      "outputs": [
        {
          "output_type": "execute_result",
          "data": {
            "text/plain": [
              "['a', 'b', 'c', 'd']"
            ]
          },
          "metadata": {},
          "execution_count": 73
        }
      ]
    },
    {
      "cell_type": "code",
      "source": [
        "(metin4+metin5)*3\n",
        "#birleştirilen liste çarpma işlemi ile çoğaltılabilir"
      ],
      "metadata": {
        "colab": {
          "base_uri": "https://localhost:8080/"
        },
        "id": "iLGK5gx-ODie",
        "outputId": "526d193d-56ef-45ac-95fa-6c41ff468c68"
      },
      "execution_count": 75,
      "outputs": [
        {
          "output_type": "execute_result",
          "data": {
            "text/plain": [
              "[1, 3, 5, 7, 9, 11, 1, 3, 5, 7, 9, 11, 1, 3, 5, 7, 9, 11]"
            ]
          },
          "metadata": {},
          "execution_count": 75
        }
      ]
    },
    {
      "cell_type": "code",
      "source": [
        "metin8=(metin6+metin7)*2"
      ],
      "metadata": {
        "id": "DeOQdlBbhDy3"
      },
      "execution_count": 76,
      "outputs": []
    },
    {
      "cell_type": "code",
      "source": [
        "metin8[1]=[1,2,3]\n",
        "#metin8 1 nolu indexin tek değeri yerine bir liste atanıyor"
      ],
      "metadata": {
        "id": "yFDoXMEuhD5i"
      },
      "execution_count": 81,
      "outputs": []
    },
    {
      "cell_type": "code",
      "source": [
        "metin8"
      ],
      "metadata": {
        "colab": {
          "base_uri": "https://localhost:8080/"
        },
        "id": "tIirb732hEAN",
        "outputId": "dfbb321f-9500-486c-c61f-231f1a2efe70"
      },
      "execution_count": 83,
      "outputs": [
        {
          "output_type": "execute_result",
          "data": {
            "text/plain": [
              "['a', [1, 2, 3], 'c', 'd', 'a', 'b', 'c', 'd']"
            ]
          },
          "metadata": {},
          "execution_count": 83
        }
      ]
    },
    {
      "cell_type": "code",
      "source": [
        "metin8[1][1]\n",
        "#listenin 1. elemanının içindeki 1. elemana ulaşılıyor"
      ],
      "metadata": {
        "colab": {
          "base_uri": "https://localhost:8080/"
        },
        "id": "_VCxsHlXhEGS",
        "outputId": "aa197944-dc7b-4c6b-b294-b07e2f89eab4"
      },
      "execution_count": 85,
      "outputs": [
        {
          "output_type": "execute_result",
          "data": {
            "text/plain": [
              "2"
            ]
          },
          "metadata": {},
          "execution_count": 85
        }
      ]
    },
    {
      "cell_type": "code",
      "source": [
        "liste5=[[1,3],[[1,5],[8,9,9,\"bana ulaş\"]]]"
      ],
      "metadata": {
        "id": "0VA0_6oFhENT"
      },
      "execution_count": 86,
      "outputs": []
    },
    {
      "cell_type": "code",
      "source": [
        "liste5[1][1][3].upper()\n",
        "#'bana ulaş' elemanının yeri kullanılarak büyük harfe çevrilmiş hali döndürülür"
      ],
      "metadata": {
        "colab": {
          "base_uri": "https://localhost:8080/",
          "height": 35
        },
        "id": "pRAT1swohEmH",
        "outputId": "32d4d46c-0100-425f-885c-2f780285a43d"
      },
      "execution_count": 87,
      "outputs": [
        {
          "output_type": "execute_result",
          "data": {
            "application/vnd.google.colaboratory.intrinsic+json": {
              "type": "string"
            },
            "text/plain": [
              "'BANA ULAŞ'"
            ]
          },
          "metadata": {},
          "execution_count": 87
        }
      ]
    },
    {
      "cell_type": "code",
      "source": [
        "type(liste5[0][0])\n",
        "#liste5in ilk elemanının ilk elemanı tipi int döndürülür"
      ],
      "metadata": {
        "colab": {
          "base_uri": "https://localhost:8080/"
        },
        "id": "GJkBM--Jk4G6",
        "outputId": "3a89ff2a-5376-4050-838f-b2c7d5b5a388"
      },
      "execution_count": 99,
      "outputs": [
        {
          "output_type": "execute_result",
          "data": {
            "text/plain": [
              "int"
            ]
          },
          "metadata": {},
          "execution_count": 99
        }
      ]
    },
    {
      "cell_type": "code",
      "source": [
        "[1,10,100]<[1,11,100]"
      ],
      "metadata": {
        "colab": {
          "base_uri": "https://localhost:8080/"
        },
        "id": "AaLQKg9MhE8Y",
        "outputId": "ebd3fa57-172e-4176-d23c-77f13b15e733"
      },
      "execution_count": 88,
      "outputs": [
        {
          "output_type": "execute_result",
          "data": {
            "text/plain": [
              "True"
            ]
          },
          "metadata": {},
          "execution_count": 88
        }
      ]
    },
    {
      "cell_type": "code",
      "source": [
        "[2,10,100]<[1,10,100]\n",
        "#iki liste karşılaştırılırken önce ilk index, sonra diğer indexler karşılaştırlır."
      ],
      "metadata": {
        "colab": {
          "base_uri": "https://localhost:8080/"
        },
        "id": "a63CAGzphFDn",
        "outputId": "d525e44e-04e1-47fe-9f49-e959b3af32f7"
      },
      "execution_count": 91,
      "outputs": [
        {
          "output_type": "execute_result",
          "data": {
            "text/plain": [
              "False"
            ]
          },
          "metadata": {},
          "execution_count": 91
        }
      ]
    },
    {
      "cell_type": "code",
      "source": [
        "['z','b','c']<['b','b','c']"
      ],
      "metadata": {
        "colab": {
          "base_uri": "https://localhost:8080/"
        },
        "id": "DF-U09qJhFKJ",
        "outputId": "ba977f34-13a5-47b9-c185-2ffe665903db"
      },
      "execution_count": 95,
      "outputs": [
        {
          "output_type": "execute_result",
          "data": {
            "text/plain": [
              "False"
            ]
          },
          "metadata": {},
          "execution_count": 95
        }
      ]
    },
    {
      "cell_type": "code",
      "source": [
        "list(range(10,20))"
      ],
      "metadata": {
        "colab": {
          "base_uri": "https://localhost:8080/"
        },
        "id": "-WXNuIJVhFQs",
        "outputId": "71aed4c6-1d1e-4f9f-f139-640e4dfb0ad6"
      },
      "execution_count": 96,
      "outputs": [
        {
          "output_type": "execute_result",
          "data": {
            "text/plain": [
              "[10, 11, 12, 13, 14, 15, 16, 17, 18, 19]"
            ]
          },
          "metadata": {},
          "execution_count": 96
        }
      ]
    },
    {
      "cell_type": "code",
      "source": [
        "list(range(10,20,2))\n",
        "#range() fonks 10dan 20ye 2şer atlayarak sayılardan liste yapar"
      ],
      "metadata": {
        "colab": {
          "base_uri": "https://localhost:8080/"
        },
        "id": "vlE4T8NFhFXq",
        "outputId": "038fb57a-eb34-4cd5-f897-922529ff8e6f"
      },
      "execution_count": 97,
      "outputs": [
        {
          "output_type": "execute_result",
          "data": {
            "text/plain": [
              "[10, 12, 14, 16, 18]"
            ]
          },
          "metadata": {},
          "execution_count": 97
        }
      ]
    },
    {
      "cell_type": "code",
      "source": [
        "liste6=list(range(1,10,2))\n",
        "liste6"
      ],
      "metadata": {
        "colab": {
          "base_uri": "https://localhost:8080/"
        },
        "id": "Ni-gcexjODqe",
        "outputId": "b8faccc0-9ea6-4302-e86d-f6861f2edeb1"
      },
      "execution_count": 102,
      "outputs": [
        {
          "output_type": "execute_result",
          "data": {
            "text/plain": [
              "[1, 3, 5, 7, 9]"
            ]
          },
          "metadata": {},
          "execution_count": 102
        }
      ]
    },
    {
      "cell_type": "code",
      "source": [
        "\" tek sayılar {}\".format(liste6)"
      ],
      "metadata": {
        "colab": {
          "base_uri": "https://localhost:8080/",
          "height": 35
        },
        "id": "xQVTjz28ODuj",
        "outputId": "bb02a7a1-3b8c-4358-e258-74ed813281f5"
      },
      "execution_count": 103,
      "outputs": [
        {
          "output_type": "execute_result",
          "data": {
            "application/vnd.google.colaboratory.intrinsic+json": {
              "type": "string"
            },
            "text/plain": [
              "' tek sayılar [1, 3, 5, 7, 9]'"
            ]
          },
          "metadata": {},
          "execution_count": 103
        }
      ]
    },
    {
      "cell_type": "code",
      "source": [
        "\" tek sayılardan ilki {[0]}\".format(liste6)\n",
        "#format içerisinde yer tutucuda listenin herhangi bir elemanını göstermek için index kullanılır"
      ],
      "metadata": {
        "colab": {
          "base_uri": "https://localhost:8080/",
          "height": 35
        },
        "id": "ho3GawJNODyY",
        "outputId": "9a54769a-974e-48b6-ccd4-68ae72528fd3"
      },
      "execution_count": 105,
      "outputs": [
        {
          "output_type": "execute_result",
          "data": {
            "application/vnd.google.colaboratory.intrinsic+json": {
              "type": "string"
            },
            "text/plain": [
              "' tek sayılardan ilki 1'"
            ]
          },
          "metadata": {},
          "execution_count": 105
        }
      ]
    },
    {
      "cell_type": "markdown",
      "source": [
        "ALL() ANY()\n",
        "\n",
        "all içerisindeki tüm elemanlar Tru ise True döndürür\n",
        "any içerisindeki herhangi bir eleman True ise True döndğrğr"
      ],
      "metadata": {
        "id": "Yw0agRDpnHoy"
      }
    },
    {
      "cell_type": "code",
      "source": [
        "bool(5)"
      ],
      "metadata": {
        "colab": {
          "base_uri": "https://localhost:8080/"
        },
        "id": "HB4DxIbpmeXC",
        "outputId": "48892506-20b6-4924-c377-985a5999b7d2"
      },
      "execution_count": 106,
      "outputs": [
        {
          "output_type": "execute_result",
          "data": {
            "text/plain": [
              "True"
            ]
          },
          "metadata": {},
          "execution_count": 106
        }
      ]
    },
    {
      "cell_type": "code",
      "source": [
        "bool(0)"
      ],
      "metadata": {
        "colab": {
          "base_uri": "https://localhost:8080/"
        },
        "id": "uBLhAXAmmeh6",
        "outputId": "1272f76b-0baa-4702-9452-eb66639af19e"
      },
      "execution_count": 107,
      "outputs": [
        {
          "output_type": "execute_result",
          "data": {
            "text/plain": [
              "False"
            ]
          },
          "metadata": {},
          "execution_count": 107
        }
      ]
    },
    {
      "cell_type": "code",
      "source": [
        "bool([1,2,3])"
      ],
      "metadata": {
        "colab": {
          "base_uri": "https://localhost:8080/"
        },
        "id": "hfYlo1ufmelL",
        "outputId": "a58a986c-7b24-470e-85a8-bfaaf5ecb36f"
      },
      "execution_count": 108,
      "outputs": [
        {
          "output_type": "execute_result",
          "data": {
            "text/plain": [
              "True"
            ]
          },
          "metadata": {},
          "execution_count": 108
        }
      ]
    },
    {
      "cell_type": "code",
      "source": [
        "liste7=[1,5,7]"
      ],
      "metadata": {
        "id": "SUOorfeJmeoZ"
      },
      "execution_count": 111,
      "outputs": []
    },
    {
      "cell_type": "code",
      "source": [
        "all(liste7)"
      ],
      "metadata": {
        "colab": {
          "base_uri": "https://localhost:8080/"
        },
        "id": "XxPeEg38meyv",
        "outputId": "f03f2885-5a1b-467d-a466-37ebdfeb53d2"
      },
      "execution_count": 112,
      "outputs": [
        {
          "output_type": "execute_result",
          "data": {
            "text/plain": [
              "True"
            ]
          },
          "metadata": {},
          "execution_count": 112
        }
      ]
    },
    {
      "cell_type": "code",
      "source": [
        "liste7=[1,5,7,0]"
      ],
      "metadata": {
        "id": "G592QySIme6h"
      },
      "execution_count": 119,
      "outputs": []
    },
    {
      "cell_type": "code",
      "source": [
        "all(liste7)"
      ],
      "metadata": {
        "colab": {
          "base_uri": "https://localhost:8080/"
        },
        "id": "jYYXMqc6me92",
        "outputId": "83d47ead-ee08-4610-f222-0b124e0c6e18"
      },
      "execution_count": 120,
      "outputs": [
        {
          "output_type": "execute_result",
          "data": {
            "text/plain": [
              "False"
            ]
          },
          "metadata": {},
          "execution_count": 120
        }
      ]
    },
    {
      "cell_type": "code",
      "source": [
        "all(liste7)"
      ],
      "metadata": {
        "colab": {
          "base_uri": "https://localhost:8080/"
        },
        "id": "aopv_GMVovRb",
        "outputId": "872423b3-0f75-493a-8262-dc45dd68f75d"
      },
      "execution_count": 122,
      "outputs": [
        {
          "output_type": "execute_result",
          "data": {
            "text/plain": [
              "False"
            ]
          },
          "metadata": {},
          "execution_count": 122
        }
      ]
    },
    {
      "cell_type": "code",
      "source": [
        "liste7=[1,5,7,[]]"
      ],
      "metadata": {
        "id": "WW6Iy9prolL9"
      },
      "execution_count": 123,
      "outputs": []
    },
    {
      "cell_type": "code",
      "source": [
        "all(liste7)\n",
        "#True and True and True and False"
      ],
      "metadata": {
        "colab": {
          "base_uri": "https://localhost:8080/"
        },
        "id": "IFaDggxLo60-",
        "outputId": "ae9d1a63-a882-496f-ce1b-9d0fbd0f142b"
      },
      "execution_count": 124,
      "outputs": [
        {
          "output_type": "execute_result",
          "data": {
            "text/plain": [
              "False"
            ]
          },
          "metadata": {},
          "execution_count": 124
        }
      ]
    },
    {
      "cell_type": "code",
      "source": [
        "any(liste7)"
      ],
      "metadata": {
        "colab": {
          "base_uri": "https://localhost:8080/"
        },
        "id": "OUP741GnoVns",
        "outputId": "d6dae0b5-23ed-48e5-f1fb-01d3104dc317"
      },
      "execution_count": 125,
      "outputs": [
        {
          "output_type": "execute_result",
          "data": {
            "text/plain": [
              "True"
            ]
          },
          "metadata": {},
          "execution_count": 125
        }
      ]
    },
    {
      "cell_type": "code",
      "source": [
        "liste7=[1,0,0,0]"
      ],
      "metadata": {
        "id": "GQgPpgh9oICk"
      },
      "execution_count": 116,
      "outputs": []
    },
    {
      "cell_type": "code",
      "source": [
        "any(liste7)\n",
        "#True or False or False or False"
      ],
      "metadata": {
        "colab": {
          "base_uri": "https://localhost:8080/"
        },
        "id": "NP3g4MI_mfBS",
        "outputId": "6310f99f-a2cd-4799-8d05-bb0c53e4295f"
      },
      "execution_count": 115,
      "outputs": [
        {
          "output_type": "execute_result",
          "data": {
            "text/plain": [
              "True"
            ]
          },
          "metadata": {},
          "execution_count": 115
        }
      ]
    },
    {
      "cell_type": "code",
      "source": [
        "yaricap=float(input(\"dairenin yariçapını girin(cm): \"))\n",
        "print(\"Yarıçapı {}cm olan dairenin çevresi {}cm, alanı {}cm2 dir.\".format(yaricap,2*3.14*yaricap,3.14*yaricap*yaricap))"
      ],
      "metadata": {
        "colab": {
          "base_uri": "https://localhost:8080/"
        },
        "id": "v9_ZEy9VmfEc",
        "outputId": "997bdbe5-5ae6-438f-f814-c18181e3294f"
      },
      "execution_count": 130,
      "outputs": [
        {
          "output_type": "stream",
          "name": "stdout",
          "text": [
            "dairenin yariçapını girin(cm): 50\n",
            "Yarıçapı 50.0cm olan dairenin çevresi 314.0cm, alanı 7850.0cm2 dir.\n"
          ]
        }
      ]
    },
    {
      "cell_type": "code",
      "source": [
        "str1=\"hello\"\n",
        "str1[0]"
      ],
      "metadata": {
        "colab": {
          "base_uri": "https://localhost:8080/",
          "height": 35
        },
        "id": "fozwX6qNmfHs",
        "outputId": "e8d62cc0-d2f0-4234-be5f-5d27ae30cdee"
      },
      "execution_count": 132,
      "outputs": [
        {
          "output_type": "execute_result",
          "data": {
            "application/vnd.google.colaboratory.intrinsic+json": {
              "type": "string"
            },
            "text/plain": [
              "'h'"
            ]
          },
          "metadata": {},
          "execution_count": 132
        }
      ]
    },
    {
      "cell_type": "markdown",
      "source": [
        "APPEND() METODU\n",
        "LİSTEYE ELEMAN EKLE\n",
        "çalıştırıldıkça ekler"
      ],
      "metadata": {
        "id": "3FW-0G0I7zUE"
      }
    },
    {
      "cell_type": "code",
      "source": [
        "liste1=['elma','muz','kiraz']"
      ],
      "metadata": {
        "id": "DAAkEpGPmfQH"
      },
      "execution_count": 138,
      "outputs": []
    },
    {
      "cell_type": "code",
      "source": [
        "liste1.append('karpuz')\n",
        "liste1"
      ],
      "metadata": {
        "colab": {
          "base_uri": "https://localhost:8080/"
        },
        "id": "VMc9RJY6mfTu",
        "outputId": "04f94a80-e389-4a70-9f9e-338c7098bc15"
      },
      "execution_count": 139,
      "outputs": [
        {
          "output_type": "execute_result",
          "data": {
            "text/plain": [
              "['elma', 'muz', 'kiraz', 'karpuz']"
            ]
          },
          "metadata": {},
          "execution_count": 139
        }
      ]
    },
    {
      "cell_type": "code",
      "source": [
        "liste1[3]='karpuz'"
      ],
      "metadata": {
        "id": "x7f-IWU7mfXg"
      },
      "execution_count": 140,
      "outputs": []
    },
    {
      "cell_type": "code",
      "source": [
        "liste1"
      ],
      "metadata": {
        "colab": {
          "base_uri": "https://localhost:8080/"
        },
        "id": "e-Y8HWF3mfbZ",
        "outputId": "0d783603-c382-49be-b6a7-542a17f87598"
      },
      "execution_count": 141,
      "outputs": [
        {
          "output_type": "execute_result",
          "data": {
            "text/plain": [
              "['elma', 'muz', 'kiraz', 'karpuz']"
            ]
          },
          "metadata": {},
          "execution_count": 141
        }
      ]
    },
    {
      "cell_type": "markdown",
      "source": [
        "extend() metodu\n",
        "insert() metodu\n",
        "remove() metodu\n",
        "pop()\n",
        "del()\n",
        "clear()\n",
        "copy()\n",
        "count()\n",
        "index()\n",
        "liste metodu"
      ],
      "metadata": {
        "id": "TIaVRAqvQ6aB"
      }
    },
    {
      "cell_type": "code",
      "source": [
        "liste1=['elma','muz','kiraz']\n",
        "liste2=['mango','ananas','liçi']\n",
        "liste1.extend(liste2)\n",
        "#listeyi listeye ekler"
      ],
      "metadata": {
        "id": "gyrh9cTbmfeg"
      },
      "execution_count": 1,
      "outputs": []
    },
    {
      "cell_type": "code",
      "source": [
        "liste1"
      ],
      "metadata": {
        "colab": {
          "base_uri": "https://localhost:8080/"
        },
        "id": "4jtIvnB-mfha",
        "outputId": "7f7bae70-ea83-4a49-8a84-f64f769f7ede"
      },
      "execution_count": 6,
      "outputs": [
        {
          "output_type": "execute_result",
          "data": {
            "text/plain": [
              "['elma', 'muz', 'kiraz', 'mango', 'ananas', 'liçi']"
            ]
          },
          "metadata": {},
          "execution_count": 6
        }
      ]
    },
    {
      "cell_type": "code",
      "source": [
        "liste2.insert(2,'karpuz')\n",
        "#listenin istenen indexine eleman ekler"
      ],
      "metadata": {
        "id": "j4S1gDicmflY"
      },
      "execution_count": 7,
      "outputs": []
    },
    {
      "cell_type": "code",
      "source": [
        "liste2"
      ],
      "metadata": {
        "colab": {
          "base_uri": "https://localhost:8080/"
        },
        "id": "NYLUmEVSmfoZ",
        "outputId": "81ab02f1-20ac-411a-f83b-86ce18011dee"
      },
      "execution_count": 9,
      "outputs": [
        {
          "output_type": "execute_result",
          "data": {
            "text/plain": [
              "['mango', 'ananas', 'karpuz', 'liçi']"
            ]
          },
          "metadata": {},
          "execution_count": 9
        }
      ]
    },
    {
      "cell_type": "code",
      "source": [
        "liste2.remove('karpuz')\n",
        "#listede belirtilen elemanı listeden çıkarır"
      ],
      "metadata": {
        "id": "WV7fw6DOmfrU"
      },
      "execution_count": 10,
      "outputs": []
    },
    {
      "cell_type": "code",
      "source": [
        "liste2"
      ],
      "metadata": {
        "colab": {
          "base_uri": "https://localhost:8080/"
        },
        "id": "lr2qLwocmfuT",
        "outputId": "b31a245a-ffb5-417b-aaeb-d80c8a0dd396"
      },
      "execution_count": 11,
      "outputs": [
        {
          "output_type": "execute_result",
          "data": {
            "text/plain": [
              "['mango', 'ananas', 'liçi']"
            ]
          },
          "metadata": {},
          "execution_count": 11
        }
      ]
    },
    {
      "cell_type": "code",
      "source": [
        "liste2.pop(0)\n",
        "#listede index verilen elemanı siler"
      ],
      "metadata": {
        "colab": {
          "base_uri": "https://localhost:8080/",
          "height": 35
        },
        "id": "LJkHK2llmfxP",
        "outputId": "87075bd4-bb1f-4aa6-d155-7a5399b89b28"
      },
      "execution_count": 12,
      "outputs": [
        {
          "output_type": "execute_result",
          "data": {
            "application/vnd.google.colaboratory.intrinsic+json": {
              "type": "string"
            },
            "text/plain": [
              "'mango'"
            ]
          },
          "metadata": {},
          "execution_count": 12
        }
      ]
    },
    {
      "cell_type": "code",
      "source": [
        "liste2"
      ],
      "metadata": {
        "colab": {
          "base_uri": "https://localhost:8080/"
        },
        "id": "3s36oEhDmf08",
        "outputId": "e44c0238-cc0c-4b22-854c-e31a4d7af7f1"
      },
      "execution_count": 13,
      "outputs": [
        {
          "output_type": "execute_result",
          "data": {
            "text/plain": [
              "['ananas', 'liçi']"
            ]
          },
          "metadata": {},
          "execution_count": 13
        }
      ]
    },
    {
      "cell_type": "code",
      "source": [
        "liste1"
      ],
      "metadata": {
        "colab": {
          "base_uri": "https://localhost:8080/"
        },
        "id": "sGfRa8_Ymf3_",
        "outputId": "302694b1-b1df-4f7b-80b4-e4ec7e7e574b"
      },
      "execution_count": 14,
      "outputs": [
        {
          "output_type": "execute_result",
          "data": {
            "text/plain": [
              "['elma', 'muz', 'kiraz', 'mango', 'ananas', 'liçi']"
            ]
          },
          "metadata": {},
          "execution_count": 14
        }
      ]
    },
    {
      "cell_type": "code",
      "source": [
        "liste1.sort()\n",
        "#listeyi alfabetik düzenler"
      ],
      "metadata": {
        "id": "UZnni7H5mf6_"
      },
      "execution_count": 15,
      "outputs": []
    },
    {
      "cell_type": "code",
      "source": [
        "liste1"
      ],
      "metadata": {
        "colab": {
          "base_uri": "https://localhost:8080/"
        },
        "id": "Oz0RwnEFmf-o",
        "outputId": "2d7e73b3-115b-4c3c-f7ca-80f1d8876498"
      },
      "execution_count": 16,
      "outputs": [
        {
          "output_type": "execute_result",
          "data": {
            "text/plain": [
              "['ananas', 'elma', 'kiraz', 'liçi', 'mango', 'muz']"
            ]
          },
          "metadata": {},
          "execution_count": 16
        }
      ]
    },
    {
      "cell_type": "code",
      "source": [
        "kopya=liste1.copy()\n",
        "#listenin kopyasını alır"
      ],
      "metadata": {
        "id": "KwukGsy-mgBo"
      },
      "execution_count": 17,
      "outputs": []
    },
    {
      "cell_type": "code",
      "source": [
        "kopya"
      ],
      "metadata": {
        "colab": {
          "base_uri": "https://localhost:8080/"
        },
        "id": "hweIx3E2mgEm",
        "outputId": "75eac015-a045-41b8-fd95-a2b4dc4d6450"
      },
      "execution_count": 18,
      "outputs": [
        {
          "output_type": "execute_result",
          "data": {
            "text/plain": [
              "['ananas', 'elma', 'kiraz', 'liçi', 'mango', 'muz']"
            ]
          },
          "metadata": {},
          "execution_count": 18
        }
      ]
    },
    {
      "cell_type": "markdown",
      "source": [
        "max()\n",
        "min()\n",
        "sum()\n",
        "fonksiyonları kullanılabilir"
      ],
      "metadata": {
        "id": "NLhpzbXnV5M5"
      }
    },
    {
      "cell_type": "code",
      "source": [
        "liste=list(range(1,10,2))\n",
        "liste"
      ],
      "metadata": {
        "colab": {
          "base_uri": "https://localhost:8080/"
        },
        "id": "xxvTNAl0mgHx",
        "outputId": "7247816b-98f4-468c-fbb9-86e796983d9a"
      },
      "execution_count": 23,
      "outputs": [
        {
          "output_type": "execute_result",
          "data": {
            "text/plain": [
              "[1, 3, 5, 7, 9]"
            ]
          },
          "metadata": {},
          "execution_count": 23
        }
      ]
    },
    {
      "cell_type": "code",
      "source": [
        "print(\"Ortalama: \", sum(liste)/len(liste))"
      ],
      "metadata": {
        "colab": {
          "base_uri": "https://localhost:8080/"
        },
        "id": "0BX3TFUrmgK2",
        "outputId": "29d14d87-39fa-4e9c-d515-8b979c455062"
      },
      "execution_count": 26,
      "outputs": [
        {
          "output_type": "stream",
          "name": "stdout",
          "text": [
            "Ortalama:  5.0\n"
          ]
        }
      ]
    },
    {
      "cell_type": "code",
      "source": [
        "max(liste)"
      ],
      "metadata": {
        "colab": {
          "base_uri": "https://localhost:8080/"
        },
        "id": "ziE3hf89mgN5",
        "outputId": "d61d2ec1-ff20-4b67-ed19-8619e85a9106"
      },
      "execution_count": 27,
      "outputs": [
        {
          "output_type": "execute_result",
          "data": {
            "text/plain": [
              "9"
            ]
          },
          "metadata": {},
          "execution_count": 27
        }
      ]
    },
    {
      "cell_type": "code",
      "source": [
        "min(liste)"
      ],
      "metadata": {
        "colab": {
          "base_uri": "https://localhost:8080/"
        },
        "id": "BSgMjJommgRJ",
        "outputId": "42127a0b-be72-4811-deb6-385ff0ea200f"
      },
      "execution_count": 28,
      "outputs": [
        {
          "output_type": "execute_result",
          "data": {
            "text/plain": [
              "1"
            ]
          },
          "metadata": {},
          "execution_count": 28
        }
      ]
    },
    {
      "cell_type": "code",
      "source": [
        ""
      ],
      "metadata": {
        "id": "1fuqoK_emgUT"
      },
      "execution_count": null,
      "outputs": []
    },
    {
      "cell_type": "code",
      "source": [
        ""
      ],
      "metadata": {
        "id": "ngVePzzKmgXW"
      },
      "execution_count": null,
      "outputs": []
    },
    {
      "cell_type": "code",
      "source": [
        ""
      ],
      "metadata": {
        "id": "oBHa6p7Qmgac"
      },
      "execution_count": null,
      "outputs": []
    },
    {
      "cell_type": "code",
      "source": [
        ""
      ],
      "metadata": {
        "id": "h3Z3GeF_mgd4"
      },
      "execution_count": null,
      "outputs": []
    },
    {
      "cell_type": "code",
      "source": [
        ""
      ],
      "metadata": {
        "id": "iEsCLMJfmgi0"
      },
      "execution_count": null,
      "outputs": []
    },
    {
      "cell_type": "code",
      "source": [
        ""
      ],
      "metadata": {
        "id": "wRcD7_2bmgoD"
      },
      "execution_count": null,
      "outputs": []
    },
    {
      "cell_type": "code",
      "source": [
        ""
      ],
      "metadata": {
        "id": "a8vK-BngmgsL"
      },
      "execution_count": null,
      "outputs": []
    },
    {
      "cell_type": "code",
      "source": [
        ""
      ],
      "metadata": {
        "id": "E8S4L_Ohmgvr"
      },
      "execution_count": null,
      "outputs": []
    },
    {
      "cell_type": "code",
      "source": [
        ""
      ],
      "metadata": {
        "id": "HcEGURZhmgy8"
      },
      "execution_count": null,
      "outputs": []
    },
    {
      "cell_type": "code",
      "source": [
        ""
      ],
      "metadata": {
        "id": "Pip_gykbmg2J"
      },
      "execution_count": null,
      "outputs": []
    },
    {
      "cell_type": "code",
      "source": [
        ""
      ],
      "metadata": {
        "id": "mh4bpycOmg5d"
      },
      "execution_count": null,
      "outputs": []
    },
    {
      "cell_type": "code",
      "source": [
        ""
      ],
      "metadata": {
        "id": "WPys069mmg88"
      },
      "execution_count": null,
      "outputs": []
    },
    {
      "cell_type": "code",
      "source": [
        ""
      ],
      "metadata": {
        "id": "xSrIBFA4mhA8"
      },
      "execution_count": null,
      "outputs": []
    },
    {
      "cell_type": "code",
      "source": [
        ""
      ],
      "metadata": {
        "id": "6hi5dsHtmhEb"
      },
      "execution_count": null,
      "outputs": []
    },
    {
      "cell_type": "code",
      "source": [
        ""
      ],
      "metadata": {
        "id": "-MTaE2iSmhIo"
      },
      "execution_count": null,
      "outputs": []
    },
    {
      "cell_type": "code",
      "source": [
        ""
      ],
      "metadata": {
        "id": "b3cKSXREN-F_"
      },
      "execution_count": null,
      "outputs": []
    },
    {
      "cell_type": "code",
      "source": [
        ""
      ],
      "metadata": {
        "id": "ce31L6x8nwJa"
      },
      "execution_count": null,
      "outputs": []
    }
  ]
}
