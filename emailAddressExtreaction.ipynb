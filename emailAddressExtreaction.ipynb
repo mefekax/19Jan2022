{
  "nbformat": 4,
  "nbformat_minor": 0,
  "metadata": {
    "colab": {
      "name": "Untitled1.ipynb",
      "provenance": [],
      "authorship_tag": "ABX9TyOjXaL9J7eHv8EImdXkMCOm",
      "include_colab_link": true
    },
    "kernelspec": {
      "name": "python3",
      "display_name": "Python 3"
    },
    "language_info": {
      "name": "python"
    }
  },
  "cells": [
    {
      "cell_type": "markdown",
      "metadata": {
        "id": "view-in-github",
        "colab_type": "text"
      },
      "source": [
        "<a href=\"https://colab.research.google.com/github/mefekax/19Jan2022/blob/main/emailAddressExtreaction.ipynb\" target=\"_parent\"><img src=\"https://colab.research.google.com/assets/colab-badge.svg\" alt=\"Open In Colab\"/></a>"
      ]
    },
    {
      "cell_type": "code",
      "execution_count": null,
      "metadata": {
        "colab": {
          "base_uri": "https://localhost:8080/"
        },
        "id": "wFIfZekvhTCB",
        "outputId": "fd846b7a-6ef9-412d-e899-f83b36f7f9db"
      },
      "outputs": [
        {
          "output_type": "stream",
          "name": "stdout",
          "text": [
            "leoo\n",
            "hi\n",
            "hi\n",
            "hello\n"
          ]
        }
      ],
      "source": [
        "print(\"leoo\")\n",
        "x=input()\n",
        "print (x)\n",
        "if 5>2:\n",
        "  print(\"hello\")"
      ]
    },
    {
      "cell_type": "code",
      "source": [
        "print(x)"
      ],
      "metadata": {
        "colab": {
          "base_uri": "https://localhost:8080/"
        },
        "id": "HAW_-u2CkhEo",
        "outputId": "f468e6d3-8ec1-48cc-957f-8b7df32eea88"
      },
      "execution_count": null,
      "outputs": [
        {
          "output_type": "stream",
          "name": "stdout",
          "text": [
            "hi\n"
          ]
        }
      ]
    },
    {
      "cell_type": "code",
      "source": [
        "y=\"miyaw\""
      ],
      "metadata": {
        "id": "mj61N6fRk8zx"
      },
      "execution_count": null,
      "outputs": []
    },
    {
      "cell_type": "code",
      "source": [
        "print(y)"
      ],
      "metadata": {
        "colab": {
          "base_uri": "https://localhost:8080/"
        },
        "id": "ipfb5cGHlATS",
        "outputId": "d2d12533-a157-451c-bc41-4a599759e5cd"
      },
      "execution_count": null,
      "outputs": [
        {
          "output_type": "stream",
          "name": "stdout",
          "text": [
            "miyaw\n"
          ]
        }
      ]
    },
    {
      "cell_type": "code",
      "source": [
        "a=800\n",
        "b=\"merhaba\"\n",
        "    print(a,b, sep=\"**\")"
      ],
      "metadata": {
        "colab": {
          "base_uri": "https://localhost:8080/"
        },
        "id": "FJZf1q5ulcU8",
        "outputId": "428d6474-35c8-4be1-eafd-63a2d054e9ca"
      },
      "execution_count": null,
      "outputs": [
        {
          "output_type": "stream",
          "name": "stdout",
          "text": [
            "800**merhaba\n"
          ]
        }
      ]
    },
    {
      "cell_type": "code",
      "source": [
        "yas=input(\"yaş kaç \")"
      ],
      "metadata": {
        "colab": {
          "base_uri": "https://localhost:8080/"
        },
        "id": "qHgthXMgog81",
        "outputId": "5e0fae92-467f-46c2-bb5a-8e3ed08245ca"
      },
      "execution_count": null,
      "outputs": [
        {
          "name": "stdout",
          "output_type": "stream",
          "text": [
            "yaş kaç 3\n"
          ]
        }
      ]
    },
    {
      "cell_type": "code",
      "source": [
        "yas"
      ],
      "metadata": {
        "colab": {
          "base_uri": "https://localhost:8080/",
          "height": 35
        },
        "id": "VNbEDp79pI2H",
        "outputId": "2dedb679-a80a-494e-b3d6-4886c5bb7196"
      },
      "execution_count": null,
      "outputs": [
        {
          "output_type": "execute_result",
          "data": {
            "application/vnd.google.colaboratory.intrinsic+json": {
              "type": "string"
            },
            "text/plain": [
              "'3'"
            ]
          },
          "metadata": {},
          "execution_count": 15
        }
      ]
    },
    {
      "cell_type": "code",
      "source": [
        "isim=input(\"ismin ne \")"
      ],
      "metadata": {
        "colab": {
          "base_uri": "https://localhost:8080/"
        },
        "id": "UJla5YsQpXzv",
        "outputId": "769b6863-6369-469b-e9f0-ffe4e5c2eefa"
      },
      "execution_count": null,
      "outputs": [
        {
          "name": "stdout",
          "output_type": "stream",
          "text": [
            "ismin ne meryem\n"
          ]
        }
      ]
    },
    {
      "cell_type": "code",
      "source": [
        "print(\"merhaba \" + isim)"
      ],
      "metadata": {
        "colab": {
          "base_uri": "https://localhost:8080/"
        },
        "id": "rfRBxK86pf4g",
        "outputId": "ce10b289-93cf-4c22-c75b-15745e4bbfb3"
      },
      "execution_count": null,
      "outputs": [
        {
          "output_type": "stream",
          "name": "stdout",
          "text": [
            "merhaba meryem\n"
          ]
        }
      ]
    },
    {
      "cell_type": "code",
      "source": [
        "#this is a comment"
      ],
      "metadata": {
        "id": "QSXaZRWD0fm_"
      },
      "execution_count": null,
      "outputs": []
    },
    {
      "cell_type": "code",
      "source": [
        "sayı1=500\n",
        "sayı2=500\n",
        "print(id(sayı1))\n",
        "print(\" \")\n",
        "\n"
      ],
      "metadata": {
        "colab": {
          "base_uri": "https://localhost:8080/"
        },
        "id": "kaXU2MXl32v0",
        "outputId": "f7f675fa-c0dc-44c9-9ce1-4386ffe6dae0"
      },
      "execution_count": null,
      "outputs": [
        {
          "output_type": "stream",
          "name": "stdout",
          "text": [
            "140424394789200\n",
            " \n"
          ]
        }
      ]
    },
    {
      "cell_type": "code",
      "source": [
        "print(id(sayı2))"
      ],
      "metadata": {
        "colab": {
          "base_uri": "https://localhost:8080/"
        },
        "id": "8cBguS1Q4erZ",
        "outputId": "e233a52e-4a06-4794-f796-5e693e879fa4"
      },
      "execution_count": null,
      "outputs": [
        {
          "output_type": "stream",
          "name": "stdout",
          "text": [
            "140424394791600\n"
          ]
        }
      ]
    },
    {
      "cell_type": "code",
      "source": [
        "x=200\n",
        "x*x\n",
        "print(x*x)"
      ],
      "metadata": {
        "id": "bG3YIEVv5Qfh",
        "colab": {
          "base_uri": "https://localhost:8080/"
        },
        "outputId": "e8cf5b30-cec3-4142-af13-73af8894c5a0"
      },
      "execution_count": null,
      "outputs": [
        {
          "output_type": "stream",
          "name": "stdout",
          "text": [
            "40000\n"
          ]
        }
      ]
    },
    {
      "cell_type": "code",
      "source": [
        "x"
      ],
      "metadata": {
        "colab": {
          "base_uri": "https://localhost:8080/"
        },
        "id": "O-_1jyq-gge4",
        "outputId": "136f6983-5e59-4b78-d5ed-e7872d919f36"
      },
      "execution_count": null,
      "outputs": [
        {
          "output_type": "execute_result",
          "data": {
            "text/plain": [
              "200"
            ]
          },
          "metadata": {},
          "execution_count": 2
        }
      ]
    },
    {
      "cell_type": "code",
      "source": [
        "a=4\n",
        "b=3"
      ],
      "metadata": {
        "id": "30JiOwCOg05w"
      },
      "execution_count": null,
      "outputs": []
    },
    {
      "cell_type": "code",
      "source": [
        "id(a)"
      ],
      "metadata": {
        "colab": {
          "base_uri": "https://localhost:8080/"
        },
        "id": "41Onjs7RiAcQ",
        "outputId": "3bd49655-0e00-4344-87b1-8c44c89f6bf6"
      },
      "execution_count": null,
      "outputs": [
        {
          "output_type": "execute_result",
          "data": {
            "text/plain": [
              "94611852782176"
            ]
          },
          "metadata": {},
          "execution_count": 7
        }
      ]
    },
    {
      "cell_type": "code",
      "source": [
        "id(b)"
      ],
      "metadata": {
        "colab": {
          "base_uri": "https://localhost:8080/"
        },
        "id": "ia4eA-VuiDL3",
        "outputId": "06a43eba-a2fe-47bb-8ce8-0e8f06542efd"
      },
      "execution_count": null,
      "outputs": [
        {
          "output_type": "execute_result",
          "data": {
            "text/plain": [
              "94611852782144"
            ]
          },

    {
      "cell_type": "code",
      "source": [
        "metin=\"memo doe memo@email.com tarzan and jane jtarz@forest.org mr and mrs brown brownies@kitchen.net developers and operators devops@cloud.it\"\n",
        "at=[0]*len(metin)#array for @sign to place indexes where it is met in string\n",
        "c=0\n",
        "x=0\n",
        "while x<len(metin):\n",
        "  if metin[x]==\"@\":\n",
        "    at[x]=x\n",
        "    c=c+1#count the number of @sign\n",
        "    #print(\"@ burada\",x)\n",
        "  \n",
        "  #print(at[x])\n",
        "  x=x+1\n",
        "#print(c)#the number of @signs printed\n",
        "cnt=[0]*c #array for occurrances of @sign\n",
        "x=0\n",
        "for x in at:\n",
        "  if at[x]!=0:\n",
        "    cnt[c-1]=at[x]#array holding @sign positions, positions sent to a shorter array\n",
        "    c=c-1\n",
        "    \n",
        "cnt.sort()\n",
        "z=cnt[0]\n",
        "while z<len(metin)-1:\n",
        "  z=z+1\n",
        "  if metin[z]==\" \":\n",
        "   pos1=z\n",
        "   \n",
        "   break\n",
        "\n",
        "metin[cnt[0]+1:pos1]"
      ],
      "metadata": {
        "id": "iEsCLMJfmgi0",
        "colab": {
          "base_uri": "https://localhost:8080/",
          "height": 35
        },
        "outputId": "a30b3cd4-0072-4820-d3d4-4f463f8dc717"
      },
      "execution_count": null,
      "outputs": [
        {
          "output_type": "execute_result",
          "data": {
            "application/vnd.google.colaboratory.intrinsic+json": {
              "type": "string"
            },
            "text/plain": [
              "'email.com'"
            ]
          },
          "metadata": {},
          "execution_count": 55
        }
      ]
    },
    {
      "cell_type": "code",
      "source": [
        ""
      ],
      "metadata": {
        "id": "wRcD7_2bmgoD"
      },
      "execution_count": null,
      "outputs": []
    },
    {
      "cell_type": "code",
      "source": [
        ""
      ],
      "metadata": {
        "id": "a8vK-BngmgsL"
      },
      "execution_count": null,
      "outputs": []
    },
    {
      "cell_type": "code",
      "source": [
        ""
      ],
      "metadata": {
        "id": "E8S4L_Ohmgvr"
      },
      "execution_count": null,
      "outputs": []
    },
    {
      "cell_type": "code",
      "source": [
        ""
      ],
      "metadata": {
        "id": "HcEGURZhmgy8"
      },
      "execution_count": null,
      "outputs": []
    },
    {
      "cell_type": "code",
      "source": [
        ""
      ],
      "metadata": {
        "id": "Pip_gykbmg2J"
      },
      "execution_count": null,
      "outputs": []
    },
    {
      "cell_type": "code",
      "source": [
        ""
      ],
      "metadata": {
        "id": "mh4bpycOmg5d"
      },
      "execution_count": null,
      "outputs": []
    },
    {
      "cell_type": "code",
      "source": [
        ""
      ],
      "metadata": {
        "id": "WPys069mmg88"
      },
      "execution_count": null,
      "outputs": []
    },
    {
      "cell_type": "code",
      "source": [
        ""
      ],
      "metadata": {
        "id": "xSrIBFA4mhA8"
      },
      "execution_count": null,
      "outputs": []
    },
    {
      "cell_type": "code",
      "source": [
        ""
      ],
      "metadata": {
        "id": "6hi5dsHtmhEb"
      },
      "execution_count": null,
      "outputs": []
    },
    {
      "cell_type": "code",
      "source": [
        ""
      ],
      "metadata": {
        "id": "-MTaE2iSmhIo"
      },
      "execution_count": null,
      "outputs": []
    },
    {
      "cell_type": "code",
      "source": [
        ""
      ],
      "metadata": {
        "id": "b3cKSXREN-F_"
      },
      "execution_count": null,
      "outputs": []
    },
    {
      "cell_type": "code",
      "source": [
        ""
      ],
      "metadata": {
        "id": "ce31L6x8nwJa"
      },
      "execution_count": null,
      "outputs": []
    }
  ]
}
