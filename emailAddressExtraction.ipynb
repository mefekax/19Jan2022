{
  "nbformat": 4,
  "nbformat_minor": 0,
  "metadata": {
    "colab": {
      "name": "emailAddressExtraction.ipynb",
      "provenance": [],
      "collapsed_sections": [],
      "authorship_tag": "ABX9TyOlAfWXdqLNS9fU92VuYoE/",
      "include_colab_link": true
    },
    "kernelspec": {
      "name": "python3",
      "display_name": "Python 3"
    },
    "language_info": {
      "name": "python"
    }
  },
  "cells": [
    {
      "cell_type": "markdown",
      "metadata": {
        "id": "view-in-github",
        "colab_type": "text"
      },
      "source": [
        "<a href=\"https://colab.research.google.com/github/mefekax/19Jan2022/blob/main/emailAddressExtraction.ipynb\" target=\"_parent\"><img src=\"https://colab.research.google.com/assets/colab-badge.svg\" alt=\"Open In Colab\"/></a>"
      ]
    },
    {
      "cell_type": "code",
      "execution_count": null,
      "metadata": {
        "id": "bkAYALt9wamA"
      },
      "outputs": [],
      "source": [
        "metin=\"memo doe memo@email.com tarzan and jane jtarz@forest.org mr and mrs brown brownies@kitchen.net developers and operators devops@cloud.it\"\n",
        "at=[0]*len(metin)#array for @sign to place indexes where it is met in string\n",
        "c=0\n",
        "x=0\n",
        "while x<len(metin):\n",
        "  if metin[x]==\"@\":\n",
        "    at[x]=x\n",
        "    c=c+1#count the number of @sign\n",
        "    #print(\"@ burada\",x)\n",
        "  \n",
        "  #print(at[x])\n",
        "  x=x+1\n",
        "#print(c)#the number of @signs printed\n",
        "cnt=[0]*c #array for occurrances of @sign\n",
        "x=0\n",
        "for x in at:\n",
        "  if at[x]!=0:\n",
        "    cnt[c-1]=at[x]#array holding @sign positions, positions sent to a shorter array\n",
        "    c=c-1\n",
        "    \n",
        "cnt.sort()\n",
        "z=cnt[0]\n",
        "while z<len(metin)-1:\n",
        "  z=z+1\n",
        "  if metin[z]==\" \":\n",
        "   pos1=z\n",
        "   \n",
        "   break\n",
        "\n",
        "metin[cnt[0]+1:pos1]"
      ]
    }
  ]
}