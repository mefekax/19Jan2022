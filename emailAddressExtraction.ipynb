{
  "nbformat": 4,
  "nbformat_minor": 0,
  "metadata": {
    "colab": {
      "name": "emailAddressExtraction.ipynb",
      "provenance": [],
      "collapsed_sections": [],
      "authorship_tag": "ABX9TyOkvme6ulsmt+EkcdjebRs2",
      "include_colab_link": true
    },
    "kernelspec": {
      "name": "python3",
      "display_name": "Python 3"
    },
    "language_info": {
      "name": "python"
    }
  },
  "cells": [
    {
      "cell_type": "markdown",
      "metadata": {
        "id": "view-in-github",
        "colab_type": "text"
      },
      "source": [
        "<a href=\"https://colab.research.google.com/github/mefekax/19Jan2022/blob/main/emailAddressExtraction.ipynb\" target=\"_parent\"><img src=\"https://colab.research.google.com/assets/colab-badge.svg\" alt=\"Open In Colab\"/></a>"
      ]
    },
    {
      "cell_type": "code",
      "execution_count": 1,
      "metadata": {
        "id": "bkAYALt9wamA",
        "colab": {
          "base_uri": "https://localhost:8080/"
        },
        "outputId": "9bc5bd85-8d5f-458e-c475-d5102d384361"
      },
      "outputs": [
        {
          "output_type": "stream",
          "name": "stdout",
          "text": [
            "memo@email.com\n",
            "jtarz@forest.org\n",
            "brownies@kitchen.net\n",
            "devops@cloud.it\n",
            "chainsawdemon@silenthill.town\n",
            "stoptyrans@worldwide.peace\n"
          ]
        }
      ],
      "source": [
        "metin = \" memo doe memo@email.com tarzan and jane jtarz@forest.org mr and mrs brown brownies@kitchen.net developers and operators devops@cloud.it nick the chopper whose job is to chop down trees chainsawdemon@silenthill.town say no to war and war cryers! stoptyrans@worldwide.peace \"\n",
        "at = [0] * len(\n",
        "    metin)  #array for @sign to place indexes where it is met in string\n",
        "c = 0#reset variables before the loop\n",
        "x = 0\n",
        "while x < len(metin):#go through the text\n",
        "    if metin[x] == \"@\":#if @ sign is met\n",
        "        at[x] = x #assign @ sign index to an array\n",
        "        c = c + 1  #count the number of @sign\n",
        "        #print(\"@ burada\",x)\n",
        "\n",
        "    #print(at[x])\n",
        "    x = x + 1#increment\n",
        "#print(c)#the number of @signs printed\n",
        "cnt = [0] * c  #array for occurrances of @sign\n",
        "x = 0#reset variable before loop\n",
        "for x in at:#at variable is searched through for the @ sign indexes\n",
        "    if at[x] != 0:#there are zeros in the array, if not a zero it is index of @ sign\n",
        "        cnt[c - 1] = at[\n",
        "            x]  #array holding @sign positions, positions sent to a shorter array\n",
        "        c = c - 1#decrement\n",
        "\n",
        "cnt.sort()#reverse order i the array for the indexes of @ sign\n",
        "\n",
        "for i in range(0,len(cnt)):#through cnt array that holds the @ sign indexes\n",
        "  z = cnt[i]\n",
        "  #for each @ sign the loop goes through while loops, checking spaces to the left and right of @ sign\n",
        "  while z < len(metin) - 1:#from the right side of the text\n",
        "    z = z + 1\n",
        "    if metin[z] == \" \":#find positions of space\n",
        "        pos1 = z\n",
        "        break\n",
        "  #print(pos1,i)\n",
        "  #print(metin[cnt[0] + 1:pos1])\n",
        "  z=cnt[i]\n",
        "  while z >=0:#from the left side of the text\n",
        "    z = z - 1\n",
        "    if metin[z] == \" \":#find positions of space\n",
        "        pos2= z\n",
        "        break\n",
        "  print(metin[pos2+1:pos1])"
      ]
    }
  ]
}